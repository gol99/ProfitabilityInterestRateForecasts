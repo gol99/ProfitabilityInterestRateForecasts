{
 "cells": [
  {
   "cell_type": "markdown",
   "id": "a8654e2b",
   "metadata": {},
   "source": [
    "# Market Yield on U.S. Treasury Securities at 10-Year Constant Maturity, Quoted on an Investment Basis (DGS10)\n",
    "Source: https://fred.stlouisfed.org/series/DGS10"
   ]
  },
  {
   "cell_type": "code",
   "execution_count": 1,
   "id": "c24348c2",
   "metadata": {},
   "outputs": [],
   "source": [
    "from fredapi import Fred\n",
    "import pandas as pd\n",
    "import os\n",
    "fred = Fred(api_key='e97c2afc477c7f1585b48673cb569ea4')"
   ]
  },
  {
   "cell_type": "code",
   "execution_count": 2,
   "id": "cbc83662",
   "metadata": {},
   "outputs": [],
   "source": [
    "start=\"1990-01-01\"\n",
    "end=\"2024-03-31\""
   ]
  },
  {
   "cell_type": "code",
   "execution_count": null,
   "id": "40030078",
   "metadata": {},
   "outputs": [],
   "source": [
    "TY = fred.get_series('DGS10',observation_start= start,\n",
    "    observation_end= end)\n",
    "TY.plot()\n",
    "TYQE=TY.resample(\"Q\").last()\n",
    "TYQE=pd.DataFrame(TYQE,columns=[\"10Y\"])"
   ]
  },
  {
   "cell_type": "code",
   "execution_count": null,
   "id": "14eae13c",
   "metadata": {},
   "outputs": [],
   "source": [
    "TYQE"
   ]
  },
  {
   "cell_type": "code",
   "execution_count": 5,
   "id": "587d42a0",
   "metadata": {},
   "outputs": [],
   "source": [
    "relative_path = os.path.join('..', 'Consolidated',\"TreasuryYield\", \"TYQE.csv\")\n",
    "TYQE.to_csv(relative_path)"
   ]
  },
  {
   "cell_type": "markdown",
   "id": "523bd9b1",
   "metadata": {},
   "source": [
    "# Market Yield on U.S. Treasury Securities at 2-Year Constant Maturity, Quoted on an Investment Basis (DGS2)\n",
    "Source: https://fred.stlouisfed.org/series/DGS2"
   ]
  },
  {
   "cell_type": "code",
   "execution_count": null,
   "id": "33e8280e",
   "metadata": {},
   "outputs": [],
   "source": [
    "TU = fred.get_series('DGS2',observation_start= start,\n",
    "    observation_end= end)\n",
    "TU.plot()\n",
    "TUQE=TU.resample(\"Q\").last()\n",
    "TUQE=pd.DataFrame(TUQE,columns=[\"2Y\"])"
   ]
  },
  {
   "cell_type": "code",
   "execution_count": 7,
   "id": "123a1a4d",
   "metadata": {},
   "outputs": [],
   "source": [
    "relative_path = os.path.join('..', 'Consolidated',\"TreasuryYield\", \"TUQE.csv\")\n",
    "TUQE.to_csv(relative_path)"
   ]
  },
  {
   "cell_type": "markdown",
   "id": "72788a2c",
   "metadata": {},
   "source": [
    "# Treasury Bill Rates\n",
    "For Sharpe Ratio Calculations, I will also need some treasury bill rates.\n",
    "##  Market Yield on U.S. Treasury Securities at 3-Month Constant Maturity, Quoted on an Investment Basis (DGS3MO)\n",
    "Source: https://fred.stlouisfed.org/series/DGS3MO"
   ]
  },
  {
   "cell_type": "code",
   "execution_count": null,
   "id": "b69baa09",
   "metadata": {},
   "outputs": [],
   "source": [
    "ThreeM = fred.get_series('DGS3MO',observation_start= start,\n",
    "    observation_end= end)\n",
    "ThreeM.plot()\n",
    "ThreeM=ThreeM.resample(\"Q\").last()"
   ]
  },
  {
   "cell_type": "markdown",
   "id": "f7ecf712",
   "metadata": {},
   "source": [
    "##  Market Yield on U.S. Treasury Securities at 6-Month Constant Maturity, Quoted on an Investment Basis (DGS6MO)\n",
    "Source: https://fred.stlouisfed.org/series/DGS6MO"
   ]
  },
  {
   "cell_type": "code",
   "execution_count": null,
   "id": "f32fc902",
   "metadata": {},
   "outputs": [],
   "source": [
    "SixM = fred.get_series('DGS6MO',observation_start= start,\n",
    "    observation_end= end)\n",
    "SixM.plot()\n",
    "SixM=SixM.resample(\"Q\").last()"
   ]
  },
  {
   "cell_type": "markdown",
   "id": "6e6ce5c0",
   "metadata": {},
   "source": [
    "##  Market Yield on U.S. Treasury Securities at 1-Year Constant Maturity, Quoted on an Investment Basis (DGS1)\n",
    "Source: https://fred.stlouisfed.org/series/DGS1"
   ]
  },
  {
   "cell_type": "code",
   "execution_count": null,
   "id": "b662bedf",
   "metadata": {},
   "outputs": [],
   "source": [
    "OneY= fred.get_series('DGS1',observation_start= start,\n",
    "    observation_end= end)\n",
    "OneY.plot()\n",
    "OneY=OneY.resample(\"Q\").last()"
   ]
  },
  {
   "cell_type": "markdown",
   "id": "491ea988",
   "metadata": {},
   "source": [
    "## Consolidate Rates"
   ]
  },
  {
   "cell_type": "code",
   "execution_count": null,
   "id": "15b95485",
   "metadata": {},
   "outputs": [],
   "source": [
    "TreasuryBill=pd.concat([ThreeM,SixM,OneY],axis=1)\n",
    "TreasuryBill.columns=[\"3M\",\"6M\",\"1Y\"]\n",
    "TreasuryBill"
   ]
  },
  {
   "cell_type": "code",
   "execution_count": 12,
   "id": "a5c10313",
   "metadata": {},
   "outputs": [],
   "source": [
    "relative_path = os.path.join('..', 'Consolidated',\"TreasuryYield\", \"TreasuryBill.csv\")\n",
    "TreasuryBill.to_csv(relative_path)"
   ]
  }
 ],
 "metadata": {
  "kernelspec": {
   "display_name": "base",
   "language": "python",
   "name": "python3"
  },
  "language_info": {
   "codemirror_mode": {
    "name": "ipython",
    "version": 3
   },
   "file_extension": ".py",
   "mimetype": "text/x-python",
   "name": "python",
   "nbconvert_exporter": "python",
   "pygments_lexer": "ipython3",
   "version": "3.9.12"
  },
  "toc": {
   "base_numbering": 1,
   "nav_menu": {},
   "number_sections": true,
   "sideBar": true,
   "skip_h1_title": false,
   "title_cell": "Table of Contents",
   "title_sidebar": "Contents",
   "toc_cell": false,
   "toc_position": {},
   "toc_section_display": true,
   "toc_window_display": false
  }
 },
 "nbformat": 4,
 "nbformat_minor": 5
}
