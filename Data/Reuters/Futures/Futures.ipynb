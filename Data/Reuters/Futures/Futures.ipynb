{
 "cells": [
  {
   "cell_type": "code",
   "execution_count": 1,
   "id": "970f7170",
   "metadata": {},
   "outputs": [],
   "source": [
    "import pandas as pd\n",
    "import os"
   ]
  },
  {
   "cell_type": "code",
   "execution_count": 2,
   "id": "c774a836",
   "metadata": {},
   "outputs": [],
   "source": [
    "#Jun04-Jun24\n",
    "TYc1=pd.read_excel(\"Price History_20240605_1700.xlsx\",skiprows=29)\n",
    "TYc2=pd.read_excel(\"Price History_20240605_1657.xlsx\",skiprows=29)\n",
    "TYc3=pd.read_excel(\"Price History_20240618_1644.xlsx\",skiprows=29)\n",
    "TUc1=pd.read_excel(\"Price History_20240605_1701.xlsx\",skiprows=30)\n",
    "TUc2=pd.read_excel(\"Price History_20240605_1705.xlsx\",skiprows=30)\n",
    "TUc3=pd.read_excel(\"Price History_20240618_1646.xlsx\",skiprows=31)\n",
    "\n",
    "#Jan04-Nov23\n",
    "TYc1_old=pd.read_excel(\"TYc1QH_Jan04_Nov23.xlsx\",skiprows=29)\n",
    "TYc2_old=pd.read_excel(\"TYc2QH_Jan04_Nov23.xlsx\",skiprows=29)\n",
    "TYc3_old=pd.read_excel(\"TYc3_QH_2004_01-2023-12.xlsx\",skiprows=28)\n",
    "TUc1_old=pd.read_excel(\"TUc1QH_Jan04_Nov23.xlsx\",skiprows=30)\n",
    "TUc2_old=pd.read_excel(\"TUc2QH_Jan04_Nov23.xlsx\",skiprows=30)\n",
    "TUc3_old=pd.read_excel(\"TUc3_QH_2004_01-2023-12.xlsx\",skiprows=30)"
   ]
  },
  {
   "cell_type": "code",
   "execution_count": 3,
   "id": "ba8f311a",
   "metadata": {},
   "outputs": [],
   "source": [
    "def combine_df(new_df,old_df):\n",
    "    id_new=new_df.iloc[-1,0]\n",
    "    id_old=old_df.index[old_df['Exchange Date'] == id_new].tolist()[0]\n",
    "    combined_df=pd.concat([new_df.iloc[0:-1,:],old_df.iloc[id_old:,:]],join=\"inner\")\n",
    "    return(combined_df)"
   ]
  },
  {
   "cell_type": "code",
   "execution_count": 4,
   "id": "c6465a0b",
   "metadata": {},
   "outputs": [],
   "source": [
    "TYc1=combine_df(TYc1,TYc1_old)\n",
    "TYc2=combine_df(TYc2,TYc2_old)\n",
    "TYc3=combine_df(TYc3,TYc3_old)\n",
    "\n",
    "TUc1=combine_df(TUc1,TUc1_old)\n",
    "TUc2=combine_df(TUc2,TUc2_old)\n",
    "TUc3=combine_df(TUc3,TUc3_old)"
   ]
  },
  {
   "cell_type": "code",
   "execution_count": 5,
   "id": "669c4a60",
   "metadata": {},
   "outputs": [],
   "source": [
    "def dataclean(df,resampling):\n",
    "    df1=df.copy()\n",
    "    df1.index=df1.loc(axis=1)[\"Exchange Date\"]\n",
    "    #Delete date column\n",
    "    df1.drop(\"Exchange Date\",axis=1,inplace=True)\n",
    "    #Only take quarter end values\n",
    "    df1=df1.resample(resampling).last()\n",
    "    #only keep columns needed\n",
    "    if resampling==\"M\":\n",
    "        df1=df1.loc(axis=1)[\"Close\",\"Bid\",\"Ask\",\"Last Trade Price\"]\n",
    "    elif resampling==\"Q\":\n",
    "        df1=df1.loc(axis=1)[\"Implied Yield\"]\n",
    "    return(df1)"
   ]
  },
  {
   "cell_type": "code",
   "execution_count": 6,
   "id": "7560f70b",
   "metadata": {},
   "outputs": [],
   "source": [
    "#get monthly price data to evaluate trading strategy\n",
    "TYc1ME=dataclean(TYc1,\"M\")\n",
    "TYc2ME=dataclean(TYc2,\"M\")\n",
    "TYc3ME=dataclean(TYc3,\"M\")\n",
    "TUc1ME=dataclean(TUc1,\"M\")\n",
    "TUc2ME=dataclean(TUc2,\"M\")\n",
    "TUc3ME=dataclean(TUc3,\"M\")\n",
    "\n",
    "#get quarterly implied yield data for forecasts\n",
    "TYc1QE=dataclean(TYc1,\"Q\")\n",
    "TYc2QE=dataclean(TYc2,\"Q\")\n",
    "TUc1QE=dataclean(TUc1,\"Q\")\n",
    "TUc2QE=dataclean(TUc2,\"Q\")"
   ]
  },
  {
   "cell_type": "code",
   "execution_count": 7,
   "id": "a3246e16",
   "metadata": {},
   "outputs": [],
   "source": [
    "#Save file using relative path\n",
    "def filesave(df,filename):\n",
    "    relative_path = os.path.join('..', '..', 'Consolidated',\"Futures\", filename)\n",
    "    df.to_csv(relative_path)"
   ]
  },
  {
   "cell_type": "code",
   "execution_count": 8,
   "id": "dee7a309",
   "metadata": {},
   "outputs": [],
   "source": [
    "filesave(TYc1ME,\"TYc1ME.csv\")\n",
    "filesave(TYc2ME,\"TYc2ME.csv\")\n",
    "filesave(TYc3ME,\"TYc3ME.csv\")\n",
    "filesave(TUc1ME,\"TUc1ME.csv\")\n",
    "filesave(TUc2ME,\"TUc2ME.csv\")\n",
    "filesave(TUc3ME,\"TUc3ME.csv\")\n",
    "\n",
    "\n",
    "filesave(TYc1QE,\"TYc1QE.csv\")\n",
    "filesave(TUc1QE,\"TUc1QE.csv\")\n",
    "filesave(TYc2QE,\"TYc2QE.csv\")\n",
    "filesave(TUc2QE,\"TUc2QE.csv\")"
   ]
  }
 ],
 "metadata": {
  "kernelspec": {
   "display_name": "base",
   "language": "python",
   "name": "python3"
  },
  "language_info": {
   "codemirror_mode": {
    "name": "ipython",
    "version": 3
   },
   "file_extension": ".py",
   "mimetype": "text/x-python",
   "name": "python",
   "nbconvert_exporter": "python",
   "pygments_lexer": "ipython3",
   "version": "3.9.12"
  },
  "toc": {
   "base_numbering": 1,
   "nav_menu": {},
   "number_sections": true,
   "sideBar": true,
   "skip_h1_title": false,
   "title_cell": "Table of Contents",
   "title_sidebar": "Contents",
   "toc_cell": false,
   "toc_position": {},
   "toc_section_display": true,
   "toc_window_display": false
  }
 },
 "nbformat": 4,
 "nbformat_minor": 5
}
