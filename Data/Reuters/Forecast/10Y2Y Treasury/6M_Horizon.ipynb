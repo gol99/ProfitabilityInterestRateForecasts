{
 "cells": [
  {
   "cell_type": "code",
   "execution_count": 1,
   "id": "073c4aef",
   "metadata": {},
   "outputs": [],
   "source": [
    "import pandas as pd\n",
    "import os"
   ]
  },
  {
   "cell_type": "code",
   "execution_count": 2,
   "id": "17688260",
   "metadata": {},
   "outputs": [],
   "source": [
    "#import ataframe and delete unecessary rows\n",
    "TY=pd.read_excel(\"6M_Horizon.xlsx\",sheet_name=\"10-YEAR NOTE (2)\",skiprows=9)"
   ]
  },
  {
   "cell_type": "code",
   "execution_count": 3,
   "id": "273123c2",
   "metadata": {},
   "outputs": [],
   "source": [
    "#Get a list with all the column names\n",
    "colnames=list(TY.columns)\n",
    "#change the names of the first two columns\n",
    "colnames[0]=\"EffectiveDate\"\n",
    "colnames[1]=\"SnapDate\"\n",
    "TY.columns=colnames\n",
    "#remove the first row as it does not contain any data\n",
    "TY=TY.iloc[1:,:]\n",
    "#Only keep consensus data\n",
    "SMTY=TY[[\"EffectiveDate\",\"SnapDate\",\"Median\",\"Mean\",\"Mode\",\"Min\",\"Max\",\"Standard Deviation\",\"# Forecasts\"]]"
   ]
  },
  {
   "cell_type": "code",
   "execution_count": 4,
   "id": "208a287c",
   "metadata": {},
   "outputs": [],
   "source": [
    "#Save file using relative path\n",
    "relative_path = os.path.join('..', '..', '..', 'Consolidated',\"Forecasts\",\"ExpertForecasts\", \"SMTY.csv\")\n",
    "SMTY.to_csv(relative_path)"
   ]
  },
  {
   "cell_type": "code",
   "execution_count": null,
   "id": "fc26524a",
   "metadata": {},
   "outputs": [],
   "source": [
    "#only keep Individual Forecasts\n",
    "IndividualForecastsTY=TY.drop(columns=[\"EffectiveDate\",\"Median\",\"Mean\",\"Mode\",\"Min\",\"Max\",\"Standard Deviation\",\"# Forecasts\",\"Actual\"])\n",
    "#Set Date as Index\n",
    "IndividualForecastsTY.index=IndividualForecastsTY[\"SnapDate\"]\n",
    "#Drop Date Column\n",
    "IndividualForecastsTY.drop(columns=[\"SnapDate\"],inplace=True)\n",
    "IndividualForecastsTY"
   ]
  },
  {
   "cell_type": "code",
   "execution_count": 6,
   "id": "2bde1be2",
   "metadata": {},
   "outputs": [],
   "source": [
    "#Save file using relative path\n",
    "relative_path = os.path.join('..', '..', '..', 'Consolidated',\"Forecasts\", \"IndividualForecasts\",\"SMTYIndividual.csv\")\n",
    "IndividualForecastsTY.to_csv(relative_path)"
   ]
  },
  {
   "cell_type": "code",
   "execution_count": 7,
   "id": "a5bd1d25",
   "metadata": {},
   "outputs": [],
   "source": [
    "#import ataframe and delete unecessary rows\n",
    "TU=pd.read_excel(\"6M_Horizon.xlsx\",sheet_name=\"2-YEAR NOTE (2)\",skiprows=9)\n",
    "#TU.drop(TU.tail(4).index,inplace = True)"
   ]
  },
  {
   "cell_type": "code",
   "execution_count": 8,
   "id": "075c8b64",
   "metadata": {},
   "outputs": [],
   "source": [
    "#Get a list with all the column names\n",
    "colnames=list(TU.columns)\n",
    "#change the names of the first two columns\n",
    "colnames[0]=\"EffectiveDate\"\n",
    "colnames[1]=\"SnapDate\"\n",
    "TU.columns=colnames\n",
    "#remove the first row as it does not contain any data\n",
    "TU=TU.iloc[1:,:]\n",
    "#Only keep consensus data\n",
    "SMTU=TU[[\"EffectiveDate\",\"SnapDate\",\"Median\",\"Mean\",\"Mode\",\"Min\",\"Max\",\"Standard Deviation\",\"# Forecasts\"]]"
   ]
  },
  {
   "cell_type": "code",
   "execution_count": 9,
   "id": "f0c54388",
   "metadata": {},
   "outputs": [],
   "source": [
    "#Save file using relative path\n",
    "relative_path = os.path.join('..', '..', '..', 'Consolidated',\"Forecasts\",\"ExpertForecasts\", \"SMTU.csv\")\n",
    "SMTU.to_csv(relative_path)"
   ]
  },
  {
   "cell_type": "code",
   "execution_count": null,
   "id": "9940242c",
   "metadata": {},
   "outputs": [],
   "source": [
    "#only keep Individual Forecasts\n",
    "IndividualForecastsTU=TU.drop(columns=[\"EffectiveDate\",\"Median\",\"Mean\",\"Mode\",\"Min\",\"Max\",\"Standard Deviation\",\"# Forecasts\",\"Actual\"])\n",
    "#Set Date as Index\n",
    "IndividualForecastsTU.index=IndividualForecastsTU[\"SnapDate\"]\n",
    "#Drop Date Column\n",
    "IndividualForecastsTU.drop(columns=[\"SnapDate\"],inplace=True)\n",
    "IndividualForecastsTU"
   ]
  },
  {
   "cell_type": "code",
   "execution_count": 11,
   "id": "a0355dd9",
   "metadata": {},
   "outputs": [],
   "source": [
    "#Save file using relative path\n",
    "relative_path = os.path.join('..', '..', '..', 'Consolidated',\"Forecasts\", \"IndividualForecasts\",\"SMTUIndividual.csv\")\n",
    "IndividualForecastsTU.to_csv(relative_path)"
   ]
  }
 ],
 "metadata": {
  "kernelspec": {
   "display_name": "base",
   "language": "python",
   "name": "python3"
  },
  "language_info": {
   "codemirror_mode": {
    "name": "ipython",
    "version": 3
   },
   "file_extension": ".py",
   "mimetype": "text/x-python",
   "name": "python",
   "nbconvert_exporter": "python",
   "pygments_lexer": "ipython3",
   "version": "3.9.12"
  },
  "toc": {
   "base_numbering": 1,
   "nav_menu": {},
   "number_sections": true,
   "sideBar": true,
   "skip_h1_title": false,
   "title_cell": "Table of Contents",
   "title_sidebar": "Contents",
   "toc_cell": false,
   "toc_position": {},
   "toc_section_display": true,
   "toc_window_display": false
  }
 },
 "nbformat": 4,
 "nbformat_minor": 5
}
