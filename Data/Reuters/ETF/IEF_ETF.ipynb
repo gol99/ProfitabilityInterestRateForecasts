{
 "cells": [
  {
   "cell_type": "code",
   "execution_count": 1,
   "id": "e3f07271",
   "metadata": {},
   "outputs": [],
   "source": [
    "import pandas as pd\n",
    "import os"
   ]
  },
  {
   "cell_type": "code",
   "execution_count": 2,
   "id": "b6a25706",
   "metadata": {},
   "outputs": [],
   "source": [
    "IEF=pd.read_excel(\"IEF7_10_ETF_PH.xlsx\",skiprows=30)"
   ]
  },
  {
   "cell_type": "code",
   "execution_count": 3,
   "id": "76224da7",
   "metadata": {},
   "outputs": [],
   "source": [
    "#Delte last three column that don't contain data\n",
    "IEF=IEF.iloc[1:,:-3]\n",
    "#Set Date as index\n",
    "IEF.index=IEF.loc(axis=1)[\"Exchange Date\"]\n",
    "#Delete date column\n",
    "IEF.drop(\"Exchange Date\",axis=1,inplace=True)\n",
    "#Only take quarter end values\n",
    "IEF=IEF.resample(\"Q\").last()\n",
    "#only keep columns needed\n",
    "IEF=IEF.loc(axis=1)[\"Close\",\"Bid\",\"Ask\"]"
   ]
  },
  {
   "cell_type": "code",
   "execution_count": 4,
   "id": "c4c281bb",
   "metadata": {},
   "outputs": [],
   "source": [
    "#Save file using relative path\n",
    "relative_path = os.path.join('..', '..', 'Consolidated',\"ETF\", \"IEF.csv\")\n",
    "IEF.to_csv(relative_path)"
   ]
  }
 ],
 "metadata": {
  "kernelspec": {
   "display_name": "base",
   "language": "python",
   "name": "python3"
  },
  "language_info": {
   "codemirror_mode": {
    "name": "ipython",
    "version": 3
   },
   "file_extension": ".py",
   "mimetype": "text/x-python",
   "name": "python",
   "nbconvert_exporter": "python",
   "pygments_lexer": "ipython3",
   "version": "3.9.12"
  },
  "toc": {
   "base_numbering": 1,
   "nav_menu": {},
   "number_sections": true,
   "sideBar": true,
   "skip_h1_title": false,
   "title_cell": "Table of Contents",
   "title_sidebar": "Contents",
   "toc_cell": false,
   "toc_position": {},
   "toc_section_display": true,
   "toc_window_display": false
  }
 },
 "nbformat": 4,
 "nbformat_minor": 5
}
