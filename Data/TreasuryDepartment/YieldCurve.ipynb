{
 "cells": [
  {
   "cell_type": "code",
   "execution_count": 1,
   "id": "82ae8cff",
   "metadata": {},
   "outputs": [],
   "source": [
    "import pandas as pd\n",
    "import os"
   ]
  },
  {
   "cell_type": "code",
   "execution_count": 2,
   "id": "cb5be964",
   "metadata": {},
   "outputs": [],
   "source": [
    "yc_hist=pd.read_csv(\"yield-curve-rates-1990-2023.csv\")\n",
    "yc_current=pd.read_csv(\"daily-treasury-rates.csv\")"
   ]
  },
  {
   "cell_type": "code",
   "execution_count": 3,
   "id": "7b081dda",
   "metadata": {},
   "outputs": [],
   "source": [
    "#concatenate both dataframes\n",
    "frames=[yc_current,yc_hist]\n",
    "yc=pd.concat(frames)\n",
    "#make date as index\n",
    "yc.index=yc.loc(axis=1)[\"Date\"]\n",
    "#Delete date column\n",
    "yc.drop(\"Date\",axis=1,inplace=True)\n",
    "#Turn index date type to datetime\n",
    "yc.index=pd.to_datetime(yc.index)\n",
    "#only keep quarterly data\n",
    "yc1=yc.resample(\"Q\").last()"
   ]
  },
  {
   "cell_type": "code",
   "execution_count": 4,
   "id": "44078716",
   "metadata": {},
   "outputs": [],
   "source": [
    "relative_path = os.path.join('..', 'Consolidated',\"TreasuryYield\", \"YieldCurve.csv\")\n",
    "yc1.to_csv(relative_path)"
   ]
  }
 ],
 "metadata": {
  "kernelspec": {
   "display_name": "base",
   "language": "python",
   "name": "python3"
  },
  "language_info": {
   "codemirror_mode": {
    "name": "ipython",
    "version": 3
   },
   "file_extension": ".py",
   "mimetype": "text/x-python",
   "name": "python",
   "nbconvert_exporter": "python",
   "pygments_lexer": "ipython3",
   "version": "3.9.12"
  },
  "toc": {
   "base_numbering": 1,
   "nav_menu": {},
   "number_sections": true,
   "sideBar": true,
   "skip_h1_title": false,
   "title_cell": "Table of Contents",
   "title_sidebar": "Contents",
   "toc_cell": false,
   "toc_position": {},
   "toc_section_display": true,
   "toc_window_display": false
  }
 },
 "nbformat": 4,
 "nbformat_minor": 5
}
