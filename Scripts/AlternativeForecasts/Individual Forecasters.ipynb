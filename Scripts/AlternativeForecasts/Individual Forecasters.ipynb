{
 "cells": [
  {
   "cell_type": "code",
   "execution_count": 1,
   "metadata": {},
   "outputs": [],
   "source": [
    "import pandas as pd\n",
    "import numpy as np\n",
    "import os"
   ]
  },
  {
   "cell_type": "code",
   "execution_count": 2,
   "metadata": {},
   "outputs": [],
   "source": [
    "#Two Year Treasury Yield\n",
    "relative_path = os.path.join('..', '..',\"Data\",'Consolidated',\"TreasuryYield\", \"TUQE.csv\")\n",
    "TUY=pd.read_csv(relative_path,index_col=0)\n",
    "#Ten Year Treasury Yield\n",
    "relative_path = os.path.join('..', '..',\"Data\",'Consolidated',\"TreasuryYield\", \"TYQE.csv\")\n",
    "TYY=pd.read_csv(relative_path,index_col=0)"
   ]
  },
  {
   "cell_type": "code",
   "execution_count": 3,
   "metadata": {},
   "outputs": [],
   "source": [
    "TUY.index = pd.to_datetime(TUY.index)\n",
    "TYY.index = pd.to_datetime(TYY.index)"
   ]
  },
  {
   "cell_type": "code",
   "execution_count": 4,
   "metadata": {},
   "outputs": [],
   "source": [
    "#Two Year Treasury Yield - 3 Month Forecast\n",
    "relative_path = os.path.join('..', '..',\"Data\",'Consolidated',\"Forecasts\",\"IndividualForecasts\", \"TMTUIndividual.csv\")\n",
    "TMTUI=pd.read_csv(relative_path,index_col=0)\n",
    "\n",
    "#Two Year Treasury Yield - 6 Month Forecast\n",
    "relative_path = os.path.join('..', '..',\"Data\",'Consolidated',\"Forecasts\",\"IndividualForecasts\", \"SMTUIndividual.csv\")\n",
    "SMTUI=pd.read_csv(relative_path,index_col=0)\n",
    "\n",
    "#Two Year Treasury Yield - 12 Month Forecast\n",
    "relative_path = os.path.join('..', '..',\"Data\",'Consolidated',\"Forecasts\",\"IndividualForecasts\", \"TWTUIndividual.csv\")\n",
    "TWTUI=pd.read_csv(relative_path,index_col=0)\n",
    "\n",
    "#Ten Year Treasury Yield - 3 Month Forecast\n",
    "relative_path = os.path.join('..', '..',\"Data\",'Consolidated',\"Forecasts\",\"IndividualForecasts\", \"TMTYIndividual.csv\")\n",
    "TMTYI=pd.read_csv(relative_path,index_col=0)\n",
    "\n",
    "#Ten Year Treasury Yield - 6 Month Forecast\n",
    "relative_path = os.path.join('..', '..',\"Data\",'Consolidated',\"Forecasts\",\"IndividualForecasts\", \"SMTYIndividual.csv\")\n",
    "SMTYI=pd.read_csv(relative_path,index_col=0)\n",
    "\n",
    "#Ten Year Treasury Yield - 12 Month Forecast\n",
    "relative_path = os.path.join('..', '..',\"Data\",'Consolidated',\"Forecasts\",\"IndividualForecasts\", \"TWTYIndividual.csv\")\n",
    "TWTYI=pd.read_csv(relative_path,index_col=0)"
   ]
  },
  {
   "cell_type": "code",
   "execution_count": null,
   "metadata": {},
   "outputs": [],
   "source": [
    "TMTUI"
   ]
  },
  {
   "cell_type": "code",
   "execution_count": 6,
   "metadata": {},
   "outputs": [],
   "source": [
    "#remove all rows with less than 10 individual forecasts\n",
    "def num_val(df):\n",
    "    df.index=pd.to_datetime(df.index)\n",
    "    #df.shift(1)\n",
    "    df=df[::-1]\n",
    "    df=df[df.notna().sum(axis=1)>=10]\n",
    "    return(df)"
   ]
  },
  {
   "cell_type": "code",
   "execution_count": 7,
   "metadata": {},
   "outputs": [],
   "source": [
    "TMTUI=num_val(TMTUI)\n",
    "SMTUI=num_val(SMTUI)\n",
    "TWTUI=num_val(TWTUI)\n",
    "TMTYI=num_val(TMTYI)\n",
    "SMTYI=num_val(SMTYI)\n",
    "TWTYI=num_val(TWTYI)"
   ]
  },
  {
   "cell_type": "code",
   "execution_count": 8,
   "metadata": {},
   "outputs": [],
   "source": [
    "def qn_predictions(individual_forecasts,maturity,tyield,q):\n",
    "    #determine sign change of yield over q quarters\n",
    "    actual_change=np.sign(tyield.diff())\n",
    "    #determine predicted sign change of yield\n",
    "    pred=np.sign(individual_forecasts.sub(tyield[maturity].reindex(individual_forecasts.index),axis=0)).shift(q)\n",
    "    #for each prediction, check wheter predicted sign change was correct\n",
    "    new_df=pd.DataFrame(columns=pred.columns)\n",
    "    for index, row in pred.iloc[:-1].iterrows():\n",
    "        #get actual sign change in yield\n",
    "        act_val=actual_change.loc[index,maturity]\n",
    "        #go through every column and check wheter sign change was predicted correctly\n",
    "        for column in pred.columns:\n",
    "            #if prediction was correct, set value to 1, else 0\n",
    "            if pred.loc[index,column]==act_val:\n",
    "                new_df.loc[index,column]=1\n",
    "            else:\n",
    "                new_df.loc[index,column]=0\n",
    "    #In a rolling window of 8 quarters, determine the best forecaster of the last 8 quarters            \n",
    "    i=0\n",
    "    predictions={}\n",
    "    for index,row in new_df.iterrows():\n",
    "        #First value is after 8th quarter\n",
    "        if i>=8:\n",
    "            #sum all correct prediction over last 8 quarters\n",
    "            best_list=[]\n",
    "            best_values_series=new_df.iloc[(i-8):i].sum().sort_values(ascending=False)\n",
    "            #list to check wheter there are further forecasters with the same amount of correct predictions\n",
    "            for f in best_values_series.index:\n",
    "                if best_values_series[f]==best_values_series[0]:\n",
    "                    best_list.append(f)\n",
    "            #collect the predictions of all forecasters with most amount of correct predictions        \n",
    "            prediction_list=[]\n",
    "            for forecaster in best_list:\n",
    "                prediction_list.append(individual_forecasts.loc[index,forecaster])\n",
    "            #take mean of all predictions\n",
    "            predictions[index]=np.nanmean(prediction_list)\n",
    "        i+=1\n",
    "    #create DataFrame with best predictions\n",
    "    best_predictions=pd.DataFrame(predictions,index=[\"Individual\"]).T\n",
    "    return(best_predictions)\n"
   ]
  },
  {
   "cell_type": "code",
   "execution_count": 9,
   "metadata": {},
   "outputs": [],
   "source": [
    "best_predictions_TMTUI=qn_predictions(TMTUI,\"2Y\",TUY,1)\n",
    "best_predictions_SMTUI=qn_predictions(SMTUI,\"2Y\",TUY,2)\n",
    "best_predictions_TWTUI=qn_predictions(TWTUI,\"2Y\",TUY,4)\n",
    "best_predictions_TMTYI=qn_predictions(TMTYI,\"10Y\",TYY,1)\n",
    "best_predictions_SMTYI=qn_predictions(SMTYI,\"10Y\",TYY,2)\n",
    "best_predictions_TWTYI=qn_predictions(TWTYI,\"10Y\",TYY,4)"
   ]
  },
  {
   "cell_type": "code",
   "execution_count": 10,
   "metadata": {},
   "outputs": [],
   "source": [
    "def filesaver(df,docname):\n",
    "    #Save file using relative path\n",
    "    relative_path = os.path.join('..', '..',\"Data\", 'Consolidated',\"Forecasts\",\"IndividualForecasts\",\"FinalPrediction\",docname)\n",
    "    df.to_csv(relative_path)"
   ]
  },
  {
   "cell_type": "code",
   "execution_count": 11,
   "metadata": {},
   "outputs": [],
   "source": [
    "filesaver(best_predictions_TMTUI,\"TMTUI.csv\")\n",
    "filesaver(best_predictions_SMTUI,\"SMTUI.csv\")\n",
    "filesaver(best_predictions_TWTUI,\"TWTUI.csv\")\n",
    "filesaver(best_predictions_TMTYI,\"TMTYI.csv\")\n",
    "filesaver(best_predictions_SMTYI,\"SMTYI.csv\")\n",
    "filesaver(best_predictions_TWTYI,\"TWTYI.csv\")"
   ]
  }
 ],
 "metadata": {
  "kernelspec": {
   "display_name": "base",
   "language": "python",
   "name": "python3"
  },
  "language_info": {
   "codemirror_mode": {
    "name": "ipython",
    "version": 3
   },
   "file_extension": ".py",
   "mimetype": "text/x-python",
   "name": "python",
   "nbconvert_exporter": "python",
   "pygments_lexer": "ipython3",
   "version": "3.9.12"
  }
 },
 "nbformat": 4,
 "nbformat_minor": 2
}
