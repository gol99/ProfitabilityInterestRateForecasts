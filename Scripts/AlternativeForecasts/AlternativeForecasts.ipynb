{
 "cells": [
  {
   "cell_type": "markdown",
   "id": "c0509ac0",
   "metadata": {},
   "source": [
    "In this script I will create the following alternative forecast data:\n",
    "\n",
    "- Naïve Forecast (No-Change)\n",
    "- Naïve Forecast (Constant Growth)\n",
    "- ARIMA Model Forecasts\n",
    "- Forward Rate Forecast\n",
    "\n",
    "# Naïve Forecast (No-Change)\n",
    "This is the simplest type of forecasts. Here, I simply predict that the interest rate of prevailing at the end of the previous quartet will correspond to the interest rate prevailing this quarter."
   ]
  },
  {
   "cell_type": "code",
   "execution_count": 1,
   "id": "183e280f",
   "metadata": {},
   "outputs": [],
   "source": [
    "import pandas as pd\n",
    "import numpy as np\n",
    "import os"
   ]
  },
  {
   "cell_type": "code",
   "execution_count": 2,
   "id": "90bf8269",
   "metadata": {},
   "outputs": [],
   "source": [
    "#Two Year Treasury Yield\n",
    "relative_path = os.path.join('..', '..',\"Data\",'Consolidated',\"TreasuryYield\", \"TUQE.csv\")\n",
    "TUY=pd.read_csv(relative_path,index_col=0)\n",
    "#Ten Year Treasury Yield\n",
    "relative_path = os.path.join('..', '..',\"Data\",'Consolidated',\"TreasuryYield\", \"TYQE.csv\")\n",
    "TYY=pd.read_csv(relative_path,index_col=0)"
   ]
  },
  {
   "cell_type": "code",
   "execution_count": 3,
   "id": "3d610c28",
   "metadata": {},
   "outputs": [],
   "source": [
    "#Create different dataframes for different forecast horizons\n",
    "TUY3=TUY.copy()\n",
    "TUY6=TUY.copy()\n",
    "TUY12=TUY.copy()\n",
    "\n",
    "TYY3=TYY.copy()\n",
    "TYY6=TYY.copy()\n",
    "TYY12=TYY.copy()"
   ]
  },
  {
   "cell_type": "code",
   "execution_count": 4,
   "id": "0b366cd5",
   "metadata": {},
   "outputs": [],
   "source": [
    "TUY3[\"No-Change(F)\"]=TUY[\"2Y\"].shift(1)\n",
    "TUY6[\"No-Change(F)\"]=TUY[\"2Y\"].shift(2)\n",
    "TUY12[\"No-Change(F)\"]=TUY[\"2Y\"].shift(4)\n",
    "TYY3[\"No-Change(F)\"]=TYY[\"10Y\"].shift(1)\n",
    "TYY6[\"No-Change(F)\"]=TYY[\"10Y\"].shift(2)\n",
    "TYY12[\"No-Change(F)\"]=TYY[\"10Y\"].shift(4)"
   ]
  },
  {
   "cell_type": "code",
   "execution_count": null,
   "id": "c9638d35",
   "metadata": {},
   "outputs": [],
   "source": [
    "TUY3"
   ]
  },
  {
   "cell_type": "markdown",
   "id": "360ed106",
   "metadata": {},
   "source": [
    "# Naïve Forecast (Constant Growth)\n",
    "In this forecast, we assume that the previous quarter to quarter growth will also prevail this quarter. This means that the values are predicted to change, but the growth rate is assumed to stay the same. Leitch (1987, p. 43) calcualted the forefast by: \"first calculating a simple growth rate in the interest rate from the period just past to the current period, and then extrapolating that rate of change ahead\"."
   ]
  },
  {
   "cell_type": "code",
   "execution_count": 6,
   "id": "0097e26a",
   "metadata": {},
   "outputs": [],
   "source": [
    "#One-Quarter Ahead Forecast\n",
    "def const_g1(df,maturity):\n",
    "    #check wheter value changed as predicted\n",
    "    i=0\n",
    "    for index, row in df.iterrows():\n",
    "        i=i+1\n",
    "        if i==1:\n",
    "            df[\"No-Change(g)\"]=np.nan\n",
    "            index_1=index\n",
    "        elif i==2:\n",
    "            index_2=index\n",
    "        elif i>2:\n",
    "            #calculate growth rate\n",
    "            g=df.loc[index_2,maturity]/df.loc[index_1,maturity]\n",
    "            #Make Forecast\n",
    "            Forecast=g*df.loc[index_2,maturity]\n",
    "            df.loc[index,\"No-Change(g)\"]=Forecast\n",
    "            #update previous index value\n",
    "            index_1=index_2\n",
    "            index_2=index"
   ]
  },
  {
   "cell_type": "code",
   "execution_count": 7,
   "id": "350e257d",
   "metadata": {},
   "outputs": [],
   "source": [
    "#Two-Quarter Ahead Forecast\n",
    "def const_g2(df,maturity):\n",
    "    #check wheter value changed as predicted\n",
    "    i=0\n",
    "    for index, row in df.iterrows():\n",
    "        i=i+1\n",
    "        if i==1:\n",
    "            df[\"No-Change(g)\"]=np.nan\n",
    "            index_1=index\n",
    "        elif i==2:\n",
    "            index_2=index\n",
    "        elif i==3:\n",
    "            index_3=index\n",
    "        elif i>3:\n",
    "            #calculate growth rate\n",
    "            g=df.loc[index_2,maturity]/df.loc[index_1,maturity]\n",
    "            #Make Forecast\n",
    "            Forecast=g*g*df.loc[index_2,maturity]\n",
    "            df.loc[index,\"No-Change(g)\"]=Forecast\n",
    "            #update previous index value\n",
    "            index_1=index_2\n",
    "            index_2=index_3\n",
    "            index_3=index"
   ]
  },
  {
   "cell_type": "code",
   "execution_count": 8,
   "id": "3e024bcd",
   "metadata": {},
   "outputs": [],
   "source": [
    "#Four-Quarter Ahead Forecast\n",
    "def const_g4(df,maturity):\n",
    "    #check wheter value changed as predicted\n",
    "    i=0\n",
    "    for index, row in df.iterrows():\n",
    "        i=i+1\n",
    "        if i==1:\n",
    "            df[\"No-Change(g)\"]=np.nan\n",
    "            index_1=index\n",
    "        elif i==2:\n",
    "            index_2=index\n",
    "        elif i==3:\n",
    "            index_3=index\n",
    "        elif i==4:\n",
    "            index_4=index\n",
    "        elif i==5:\n",
    "            index_5=index\n",
    "        elif i>5:\n",
    "            #calculate growth rate\n",
    "            g=df.loc[index_2,maturity]/df.loc[index_1,maturity]\n",
    "            #Make Forecast\n",
    "            Forecast=g**4*df.loc[index_2,maturity]\n",
    "            df.loc[index,\"No-Change(g)\"]=Forecast\n",
    "            #update previous index value\n",
    "            index_1=index_2\n",
    "            index_2=index_3\n",
    "            index_3=index_4\n",
    "            index_4=index_5\n",
    "            index_5=index"
   ]
  },
  {
   "cell_type": "code",
   "execution_count": 9,
   "id": "b42bd4af",
   "metadata": {},
   "outputs": [],
   "source": [
    "#Apply Function to make forecasts\n",
    "const_g1(TUY3,\"2Y\")\n",
    "const_g1(TYY3,\"10Y\")\n",
    "const_g2(TUY6,\"2Y\")\n",
    "const_g2(TYY6,\"10Y\")\n",
    "const_g4(TUY12,\"2Y\")\n",
    "const_g4(TYY12,\"10Y\")"
   ]
  },
  {
   "cell_type": "code",
   "execution_count": null,
   "id": "3ec8252f",
   "metadata": {},
   "outputs": [],
   "source": [
    "TUY3"
   ]
  },
  {
   "cell_type": "markdown",
   "id": "ac4b25f9",
   "metadata": {},
   "source": [
    "# ARIMA Model Forecast\n",
    "To estimate the ARIMA model, we first need to check wheter the time-series of interest rates is stationary and need to take differences if this is not the case."
   ]
  },
  {
   "cell_type": "code",
   "execution_count": 11,
   "id": "61bf35a4",
   "metadata": {},
   "outputs": [],
   "source": [
    "from statsmodels.tsa.stattools import adfuller\n",
    "from statsmodels.tsa.arima.model import ARIMA\n",
    "from statsmodels.graphics.tsaplots import plot_acf\n",
    "from matplotlib import pyplot as plt"
   ]
  },
  {
   "cell_type": "code",
   "execution_count": null,
   "id": "66d2ee9f",
   "metadata": {},
   "outputs": [],
   "source": [
    "plot_acf(TYY[\"10Y\"])"
   ]
  },
  {
   "cell_type": "code",
   "execution_count": null,
   "id": "0d2503ec",
   "metadata": {},
   "outputs": [],
   "source": [
    "f=plt.figure()\n",
    "ax1=f.add_subplot(121)\n",
    "ax1.set_title(\"1st Order Differencing\")\n",
    "ax1.plot(TYY[\"10Y\"].diff())\n",
    "ax2=f.add_subplot(122)\n",
    "plot_acf(TYY[\"10Y\"].diff().dropna(),ax=ax2)\n",
    "plt.show()"
   ]
  },
  {
   "cell_type": "code",
   "execution_count": 14,
   "id": "9924a6ae",
   "metadata": {},
   "outputs": [],
   "source": [
    "def n_diff(df_column):\n",
    "    for i in range (0,4):\n",
    "        #prepare how many time to difference\n",
    "        result=adfuller(df_column.diff(i).dropna())\n",
    "        if result[1]<0.05:\n",
    "            print(\"p-value: \", result[1], \" achieved with \", i, \" times differencing\")\n",
    "            break\n",
    "    results=[i, result[1]]\n",
    "    return(results)"
   ]
  },
  {
   "cell_type": "code",
   "execution_count": null,
   "id": "5e67dac4",
   "metadata": {},
   "outputs": [],
   "source": [
    "n_diff(TUY.loc[\"1990-03-31\":\"1999-12-31\",\"2Y\"])\n",
    "n_diff(TYY.loc[\"1990-03-31\":\"1999-12-31\",\"10Y\"])"
   ]
  },
  {
   "cell_type": "markdown",
   "id": "0875e4c2",
   "metadata": {},
   "source": [
    "Both of the time-series exhibited non-stationarity; however, stationarity was achieved following a one-time differencing transformation. Next, I will estimate different ARIMA models for both the two-year and ten-year yield. I will estimate it by using data that will not be used for the forecasts, i.e. quarterly data from the 1990s. I will then make the forecasts with the data from Q1 2000. The respective model will be chosen by estimating the AIC, BIC, and HQIC, and take the ones with the lowest values."
   ]
  },
  {
   "cell_type": "code",
   "execution_count": null,
   "id": "3793bc5e",
   "metadata": {},
   "outputs": [],
   "source": [
    "#empty dictionary to store information criteria\n",
    "inf_crit={}\n",
    "#iterate through different values of p and q\n",
    "for p in range (0,5):\n",
    "    for q in range(0,5):\n",
    "        #estimate and fit the model\n",
    "        arima_model=ARIMA(TUY.loc[\"1990-03-31\":\"1999-12-31\",\"2Y\"],order=(p,1,q))\n",
    "        model=arima_model.fit()\n",
    "        #store the information criterion in the dictionary\n",
    "        order=f\"({p},1,{q})\"\n",
    "        inf_crit[order]=[model.bic,model.aic,model.hqic]\n",
    "        #print(model.summary())\n",
    "#make a data frame of all information criterions\n",
    "ic_df=pd.DataFrame(inf_crit).T\n",
    "ic_df.columns=[\"BIC\",\"AIC\",\"HQIC\"]\n",
    "#for each criterion get model with lowest value\n",
    "ic_df.idxmin()\n",
    "#save information criterion in excel\n",
    "relative_path = os.path.join('..', '..',\"Data\",'Results',\"StatisticalTests\", \"Information Criterion\", \"IC_ARIMA_2Y.xlsx\")\n",
    "ic_df.to_excel(relative_path)"
   ]
  },
  {
   "cell_type": "code",
   "execution_count": null,
   "id": "5c47f61a",
   "metadata": {},
   "outputs": [],
   "source": [
    "#empty dictionary to store information criteria\n",
    "inf_crit={}\n",
    "#iterate through different values of p and q\n",
    "for p in range (0,5):\n",
    "    for q in range(0,5):\n",
    "        #estimate and fit the model\n",
    "        arima_model=ARIMA(TYY.loc[\"1990-03-31\":\"1999-12-31\",\"10Y\"],order=(p,1,q))\n",
    "        model=arima_model.fit()\n",
    "        #store the information criterion in the dictionary\n",
    "        order=f\"({p},1,{q})\"\n",
    "        inf_crit[order]=[model.bic,model.aic,model.hqic]\n",
    "        #print(model.summary())\n",
    "#make a data frame of all information criterions\n",
    "ic_df=pd.DataFrame(inf_crit).T\n",
    "ic_df.columns=[\"BIC\",\"AIC\",\"HQIC\"]\n",
    "#for each criterion get model with lowest value\n",
    "ic_df.idxmin()\n",
    "#save information criterion in excel\n",
    "relative_path = os.path.join('..', '..',\"Data\",'Results',\"StatisticalTests\", \"Information Criterion\", \"IC_ARIMA_10Y.xlsx\")\n",
    "ic_df.to_excel(relative_path)"
   ]
  },
  {
   "cell_type": "code",
   "execution_count": null,
   "id": "eb6a2d61",
   "metadata": {},
   "outputs": [],
   "source": [
    "ic_df"
   ]
  },
  {
   "cell_type": "markdown",
   "id": "cbc307e9",
   "metadata": {},
   "source": [
    "For the two-year yield, all information criterion indicated that the ideal model is an I(1) model. For the 10-year model, the BIC and HQIC indicate that a I(1) model is appropriate, while the AIC indicates that an ARIMA(4,1,2) model is appropriate. As both the HQIC and BIC indicate a I(1) model, and as the BIC penalizes complexity more than the AIC, consistent with the parsimony principle (Diebold, 2001) I will choose an I(1) model here as well. Now, as forecasts based on an I(1) model essentially are no-change forecasts, I will not implement ARIMA forecasts seperately, but will just use the no-change forecasts.\n",
    "# Markets Forecast (Future implied Yield)\n",
    "Here, I take the yield implied the front-month futures contract as forecast."
   ]
  },
  {
   "cell_type": "code",
   "execution_count": 19,
   "id": "9eea5545",
   "metadata": {},
   "outputs": [],
   "source": [
    "#Quarterly Implied Yield Data\n",
    "#10Y\n",
    "relative_path = os.path.join('..', '..',\"Data\",'Consolidated',\"Futures\", \"TYc1QE.csv\")\n",
    "TYc1=pd.read_csv(relative_path,index_col=0)\n",
    "TYc1=TYc1.dropna()\n",
    "#2Y\n",
    "relative_path = os.path.join('..', '..',\"Data\",'Consolidated',\"Futures\", \"TUc1QE.csv\")\n",
    "TUc1=pd.read_csv(relative_path,index_col=0)\n",
    "TUc1=TUc1.dropna()\n",
    "#10Yc2\n",
    "relative_path = os.path.join('..', '..',\"Data\",'Consolidated',\"Futures\", \"TYc2QE.csv\")\n",
    "TYc2=pd.read_csv(relative_path,index_col=0)\n",
    "TYc2=TYc2.dropna()\n",
    "#2Yc2\n",
    "relative_path = os.path.join('..', '..',\"Data\",'Consolidated',\"Futures\", \"TUc2QE.csv\")\n",
    "TUc2=pd.read_csv(relative_path,index_col=0)\n",
    "TUc2=TUc2.dropna()"
   ]
  },
  {
   "cell_type": "code",
   "execution_count": null,
   "id": "ec45c563",
   "metadata": {},
   "outputs": [],
   "source": [
    "TUY3"
   ]
  },
  {
   "cell_type": "code",
   "execution_count": null,
   "id": "50b8550d",
   "metadata": {},
   "outputs": [],
   "source": [
    "gangnam=TUY3.merge(TUc1,how=\"inner\",left_index=True, right_index=True)\n",
    "gangnam[\"Implied Yield\"]=gangnam[\"Implied Yield\"].shift(1)\n",
    "gangnam"
   ]
  },
  {
   "cell_type": "code",
   "execution_count": 22,
   "id": "59e687a2",
   "metadata": {},
   "outputs": [],
   "source": [
    "def iY_merge(forecasts, IY,n_periods):\n",
    "    forecasts=forecasts.merge(IY,how=\"inner\",left_index=True, right_index=True)\n",
    "    forecasts[\"Implied Yield\"]=forecasts[\"Implied Yield\"].shift(n_periods)\n",
    "    return(forecasts)"
   ]
  },
  {
   "cell_type": "code",
   "execution_count": 23,
   "id": "591ae444",
   "metadata": {},
   "outputs": [],
   "source": [
    "#Apply Function to make forecasts\n",
    "TUY3=iY_merge(TUY3,TUc1,1)\n",
    "TYY3=iY_merge(TYY3,TYc1,1)\n",
    "TUY6=iY_merge(TUY6,TUc2,2)\n",
    "TYY6=iY_merge(TYY6,TYc2,2)\n",
    "TUY12=iY_merge(TUY12,TUc1,4)\n",
    "TYY12=iY_merge(TYY12,TYc1,4)"
   ]
  },
  {
   "cell_type": "code",
   "execution_count": null,
   "id": "84760908",
   "metadata": {},
   "outputs": [],
   "source": [
    "TYY6"
   ]
  },
  {
   "cell_type": "markdown",
   "id": "7bb8c2ed",
   "metadata": {},
   "source": [
    "# Forward Rate Forecast\n",
    "To calculate the Forward Rate Forecast, we use the following formula:\n",
    "$$\n",
    "F_{m,n} = \\sqrt[m]{\\frac{(1 + r_{m+n})^{m+n}}{(1 + r_n)^n}} - 1\n",
    "$$\n",
    ", where *m* refers to the number of years to maturity for the selected treasury note, *n* refers to the forecast horizon, and *F* refers to the Forward rate. The spot rates which are not directly observable on the market will be estimated using linear interpolation."
   ]
  },
  {
   "cell_type": "code",
   "execution_count": 25,
   "id": "1f11548b",
   "metadata": {},
   "outputs": [],
   "source": [
    "#Historical Yield Curve\n",
    "relative_path = os.path.join('..', '..',\"Data\",'Consolidated',\"TreasuryYield\", \"YieldCurve.csv\")\n",
    "YieldCurve=pd.read_csv(relative_path,index_col=0)\n",
    "YieldCurve=YieldCurve.loc[\"1990-03-31\":YieldCurve.index[-1]]"
   ]
  },
  {
   "cell_type": "code",
   "execution_count": 26,
   "id": "8aa44b43",
   "metadata": {},
   "outputs": [],
   "source": [
    "def forward_rate(m,n,date_index,interp_a,interp_b,interp_c,interp_d,r_n):\n",
    "    r_mn=np.interp(m+n, [interp_a,interp_b], [YieldCurve.loc[date_index,interp_c],YieldCurve.loc[date_index,interp_d]])\n",
    "    numerator=(1+r_mn/100)**(m+n)\n",
    "    denominator=(1+YieldCurve.loc[date_index,r_n]/100)**n\n",
    "    forward_rate=((numerator/denominator)**(1/m)-1)*100\n",
    "    return (forward_rate)"
   ]
  },
  {
   "cell_type": "code",
   "execution_count": 27,
   "id": "e9cd30b4",
   "metadata": {},
   "outputs": [],
   "source": [
    "#works better if we do not include forward implied yield\n",
    "def forward_calc(df,m,n,interp_a,interp_b,interp_c,interp_d,r_n,q):\n",
    "    df[\"Forward\"]=np.nan\n",
    "    i=0\n",
    "    for index, row in df.iterrows():\n",
    "        i=i+1\n",
    "        if i==1:\n",
    "            index_1=index\n",
    "        else:\n",
    "            #calculate forward rate\n",
    "            fr=forward_rate(m,n,index_1,interp_a,interp_b,interp_c,interp_d,r_n)\n",
    "            #Make Forecast\n",
    "            df.loc[index,\"Forward\"]=fr\n",
    "            #update previous index value\n",
    "            index_1=index\n",
    "    #shift forecast according to how many quarters ahead we look at        \n",
    "    df[\"Forward\"]=df[\"Forward\"].shift(q-1)"
   ]
  },
  {
   "cell_type": "code",
   "execution_count": 28,
   "id": "421c3cfd",
   "metadata": {},
   "outputs": [],
   "source": [
    "#works better if we include future implied yield\n",
    "def forward_calc(df,m,n,interp_a,interp_b,interp_c,interp_d,r_n,q,yieldcurve):\n",
    "    df[\"Forward\"]=np.nan\n",
    "    i=0\n",
    "    for index, row in yieldcurve.iterrows():\n",
    "        i=i+1\n",
    "        if i==1:\n",
    "            index_1=index\n",
    "        else:\n",
    "            if index>=df.index[0]:\n",
    "                #calculate forward rate\n",
    "                fr=forward_rate(m,n,index_1,interp_a,interp_b,interp_c,interp_d,r_n)\n",
    "                #Make Forecast\n",
    "                df.loc[index,\"Forward\"]=fr\n",
    "                #update previous index value\n",
    "                index_1=index\n",
    "            else:\n",
    "                index_1=index\n",
    "    #shift forecast according to how many quarters ahead we look at        \n",
    "    df[\"Forward\"]=df[\"Forward\"].shift(q-1)"
   ]
  },
  {
   "cell_type": "code",
   "execution_count": 29,
   "id": "545a2c98",
   "metadata": {},
   "outputs": [],
   "source": [
    "forward_calc(TUY3,2,0.25,2,3,\"2 Yr\",\"3 Yr\",\"3 Mo\",1,YieldCurve)\n",
    "forward_calc(TUY6,2,0.5,2,3,\"2 Yr\",\"3 Yr\",\"6 Mo\",2,YieldCurve)\n",
    "forward_calc(TUY12,2,1,2,3,\"2 Yr\",\"3 Yr\",\"1 Yr\",4,YieldCurve)\n",
    "forward_calc(TYY3,10,0.25,10,20,\"10 Yr\",\"20 Yr\",\"3 Mo\",1,YieldCurve)\n",
    "forward_calc(TYY6,10,0.5,10,20,\"10 Yr\",\"20 Yr\",\"6 Mo\",2,YieldCurve)\n",
    "forward_calc(TYY12,10,1,10,20,\"10 Yr\",\"20 Yr\",\"1 Yr\",4,YieldCurve)"
   ]
  },
  {
   "cell_type": "code",
   "execution_count": null,
   "id": "cd11622d",
   "metadata": {},
   "outputs": [],
   "source": [
    "print(TUY3)\n",
    "print(TUY6)\n",
    "print(TUY12)\n",
    "print(TYY3)\n",
    "print(TYY6)\n",
    "print(TYY12)"
   ]
  },
  {
   "cell_type": "code",
   "execution_count": 31,
   "id": "e2c628fc",
   "metadata": {},
   "outputs": [],
   "source": [
    "def filesaver(df,docname):\n",
    "    #Save file using relative path\n",
    "    relative_path = os.path.join('..', '..',\"Data\", 'Consolidated',\"Forecasts\",\"AlternativeForecasts\",docname)\n",
    "    df.to_csv(relative_path)"
   ]
  },
  {
   "cell_type": "code",
   "execution_count": 32,
   "id": "247ca7f4",
   "metadata": {},
   "outputs": [],
   "source": [
    "filesaver(TUY3.dropna(),\"TUY3.csv\")\n",
    "filesaver(TUY6.dropna(),\"TUY6.csv\")\n",
    "filesaver(TUY12.dropna(),\"TUY12.csv\")\n",
    "filesaver(TYY3.dropna(),\"TYY3.csv\")\n",
    "filesaver(TYY6.dropna(),\"TYY6.csv\")\n",
    "filesaver(TYY12.dropna(),\"TYY12.csv\")"
   ]
  }
 ],
 "metadata": {
  "kernelspec": {
   "display_name": "base",
   "language": "python",
   "name": "python3"
  },
  "language_info": {
   "codemirror_mode": {
    "name": "ipython",
    "version": 3
   },
   "file_extension": ".py",
   "mimetype": "text/x-python",
   "name": "python",
   "nbconvert_exporter": "python",
   "pygments_lexer": "ipython3",
   "version": "3.9.12"
  },
  "toc": {
   "base_numbering": 1,
   "nav_menu": {},
   "number_sections": true,
   "sideBar": true,
   "skip_h1_title": false,
   "title_cell": "Table of Contents",
   "title_sidebar": "Contents",
   "toc_cell": false,
   "toc_position": {},
   "toc_section_display": true,
   "toc_window_display": false
  }
 },
 "nbformat": 4,
 "nbformat_minor": 5
}
