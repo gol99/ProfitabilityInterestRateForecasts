{
 "cells": [
  {
   "cell_type": "code",
   "execution_count": 1,
   "id": "89f7925f",
   "metadata": {},
   "outputs": [],
   "source": [
    "import pandas as pd\n",
    "import os\n",
    "import numpy as np\n",
    "import scipy\n",
    "import empyrical as ep\n",
    "import matplotlib\n",
    "import matplotlib.pyplot as plt\n",
    "import matplotlib.ticker as mticker"
   ]
  },
  {
   "cell_type": "markdown",
   "id": "02153e46",
   "metadata": {},
   "source": [
    "# Strategy A\n",
    "## ETF"
   ]
  },
  {
   "cell_type": "code",
   "execution_count": 2,
   "id": "dcea137d",
   "metadata": {},
   "outputs": [],
   "source": [
    "#returnsA2Y3M\n",
    "relative_path = os.path.join('..', '..',\"Data\",\"Results\",\"TradingStrategies\",\"StrategyA\",\"ETF\",\"returnsA2Y3M.csv\")\n",
    "returnsA2Y3M_A=pd.read_csv(relative_path,index_col=0)\n",
    "\n",
    "#returnsA2Y6M\n",
    "relative_path = os.path.join('..', '..',\"Data\",\"Results\",\"TradingStrategies\",\"StrategyA\",\"ETF\",\"returnsA2Y6M.csv\")\n",
    "returnsA2Y6M_A=pd.read_csv(relative_path,index_col=0)\n",
    "\n",
    "#returnsA2Y12M\n",
    "relative_path = os.path.join('..', '..',\"Data\",\"Results\",\"TradingStrategies\",\"StrategyA\",\"ETF\",\"returnsA2Y12M.csv\")\n",
    "returnsA2Y12M_A=pd.read_csv(relative_path,index_col=0)\n",
    "\n",
    "#returnsA10Y3M\n",
    "relative_path = os.path.join('..', '..',\"Data\",\"Results\",\"TradingStrategies\",\"StrategyA\",\"ETF\",\"returnsA10Y3M.csv\")\n",
    "returnsA10Y3M_A=pd.read_csv(relative_path,index_col=0)\n",
    "\n",
    "#returnsA10Y6M\n",
    "relative_path = os.path.join('..', '..',\"Data\",\"Results\",\"TradingStrategies\",\"StrategyA\",\"ETF\",\"returnsA10Y6M.csv\")\n",
    "returnsA10Y6M_A=pd.read_csv(relative_path,index_col=0)\n",
    "\n",
    "#returnsA10Y12M\n",
    "relative_path = os.path.join('..', '..',\"Data\",\"Results\",\"TradingStrategies\",\"StrategyA\",\"ETF\",\"returnsA10Y12M.csv\")\n",
    "returnsA10Y12M_A=pd.read_csv(relative_path,index_col=0)\n",
    "\n",
    "#Risk-free Returns\n",
    "relative_path = os.path.join('..', '..',\"Data\",\"Consolidated\",\"TreasuryYield\",\"TreasuryBill.csv\")\n",
    "r_f=pd.read_csv(relative_path,index_col=0)"
   ]
  },
  {
   "cell_type": "code",
   "execution_count": null,
   "id": "b2047625",
   "metadata": {},
   "outputs": [],
   "source": [
    "returnsA2Y3M_A.index"
   ]
  },
  {
   "cell_type": "code",
   "execution_count": 4,
   "id": "163403ea",
   "metadata": {},
   "outputs": [],
   "source": [
    "def risk_return(df,forecast_horizon,strategy):\n",
    "    profits=[]\n",
    "    for i in range(0,df.shape[1]//2):\n",
    "        profits.append(sum(df.iloc[:,i]))\n",
    "    AnnualizedReturn=[]\n",
    "    volatility=[]\n",
    "    skewness=[]\n",
    "    kurtosis=[]\n",
    "    VaR=[]\n",
    "    mdd=[]\n",
    "    SharpeRatio=[]\n",
    "    for i in range(df.shape[1]//2,df.shape[1]):\n",
    "        #annualized return\n",
    "        total_r=sum(df.iloc[:,i])\n",
    "        n_years=len(df.iloc[:,i])/4\n",
    "        ann_r=total_r/n_years\n",
    "        #AnnualizedReturn.append(ann_r)\n",
    "        #annualized excess return\n",
    "        qrf=((((r_f.loc[df.index,forecast_horizon]/100)+1)**0.25)-1)\n",
    "        simple_r=(np.exp(df.iloc[:,i])-1)\n",
    "        excess_return_s=simple_r-qrf\n",
    "        excess_return_log=np.log(1+excess_return_s)\n",
    "        total_r_log=sum(excess_return_log)\n",
    "        AnnualizedReturn.append(total_r_log/n_years)\n",
    "        #volatility\n",
    "        vol_q=np.std(df.iloc[:,i])\n",
    "        vol_a=vol_q*np.sqrt(4)\n",
    "        volatility.append(vol_a)\n",
    "        #skewness\n",
    "        skewness.append(scipy.stats.skew(df.iloc[:,i]))\n",
    "        #kurtosis\n",
    "        kurtosis.append(scipy.stats.kurtosis(df.iloc[:,i]))\n",
    "        #Value at Risk\n",
    "        confidence_level= 0.05\n",
    "        var= scipy.stats.norm.ppf(confidence_level, ann_r,vol_a)\n",
    "        VaR.append(var)\n",
    "        #Maximum Drawdown\n",
    "        simple_r=(np.exp(df.iloc[:,i])-1)\n",
    "        mdd.append(ep.max_drawdown(simple_r))\n",
    "        #Sharpe Ratio\n",
    "        #qrf=((((r_f.loc[df.index,forecast_horizon]/100)+1)**0.25)-1)\n",
    "        #excess_return=simple_r-qrf\n",
    "        xr=np.mean(excess_return_s)\n",
    "        sd=np.std(simple_r)\n",
    "        SharpeRatio.append(xr/sd)\n",
    "    rr_dict={\n",
    "        #\"Profit (in USD)\":profits,\n",
    "        \"Log-ER (ann.)\":AnnualizedReturn,\n",
    "        \"Volatility (ann.)\": volatility,\n",
    "        \"Skewness\":skewness,\n",
    "        \"Kurtosis\":kurtosis,\n",
    "        \"VaR (95%)\": VaR,\n",
    "        \"Maximum Drawdown\":mdd,\n",
    "        \"Sharpe Ratio\": SharpeRatio\n",
    "    }\n",
    "    rr_df=pd.DataFrame(rr_dict)\n",
    "    if strategy==\"A\":\n",
    "        rr_df.index=[\"No-Change(g)\",\"Future Implied Yield\",\"Forward\",\"Expert Forecasts\",\"Individual Forecasts\"]\n",
    "    elif strategy==\"B\":\n",
    "         rr_df.index=[\"No-Change(F)\",\"No-Change(g)\",\"Forward\",\"Expert Forecasts\",\"Individual Forecasts\"]\n",
    "    elif strategy==\"C\":\n",
    "         rr_df.index=[\"No-Change(g)\",\"Forward\",\"Expert Forecasts\",\"Individual Forecasts\"]\n",
    "    rr_df.loc(axis=0)[\"Number of Observations\"]=df.count()[0]\n",
    "    return(rr_df)"
   ]
  },
  {
   "cell_type": "code",
   "execution_count": null,
   "id": "d61713d5",
   "metadata": {},
   "outputs": [],
   "source": [
    "returnsA2Y3M_A"
   ]
  },
  {
   "cell_type": "code",
   "execution_count": null,
   "id": "cb232e2e",
   "metadata": {},
   "outputs": [],
   "source": [
    "risk_return(returnsA2Y3M_A,\"3M\",\"A\")"
   ]
  },
  {
   "cell_type": "code",
   "execution_count": null,
   "id": "5a2a9cc6",
   "metadata": {},
   "outputs": [],
   "source": [
    "risk_return(returnsA10Y3M_A,\"3M\",\"A\")"
   ]
  },
  {
   "cell_type": "code",
   "execution_count": null,
   "id": "784137be",
   "metadata": {},
   "outputs": [],
   "source": [
    "risk_return(returnsA2Y6M_A,\"6M\",\"A\")"
   ]
  },
  {
   "cell_type": "code",
   "execution_count": null,
   "id": "07b18a69",
   "metadata": {},
   "outputs": [],
   "source": [
    "risk_return(returnsA10Y6M_A,\"6M\",\"A\")"
   ]
  },
  {
   "cell_type": "code",
   "execution_count": null,
   "id": "34768de2",
   "metadata": {},
   "outputs": [],
   "source": [
    "risk_return(returnsA2Y12M_A,\"1Y\",\"A\")"
   ]
  },
  {
   "cell_type": "code",
   "execution_count": null,
   "id": "4b78e09d",
   "metadata": {},
   "outputs": [],
   "source": [
    "risk_return(returnsA10Y12M_A,\"1Y\",\"A\")"
   ]
  },
  {
   "cell_type": "markdown",
   "id": "22d40682",
   "metadata": {},
   "source": [
    "## Futures"
   ]
  },
  {
   "cell_type": "code",
   "execution_count": 12,
   "id": "cfd9415c",
   "metadata": {},
   "outputs": [],
   "source": [
    "#returnsA2Y3M\n",
    "relative_path = os.path.join('..', '..',\"Data\",\"Results\",\"TradingStrategies\",\"StrategyA\",\"Futures\",\"returnsA2Y3M.csv\")\n",
    "FreturnsA2Y3M_A=pd.read_csv(relative_path,index_col=0)\n",
    "\n",
    "#returnsA2Y6M\n",
    "relative_path = os.path.join('..', '..',\"Data\",\"Results\",\"TradingStrategies\",\"StrategyA\",\"Futures\",\"returnsA2Y6M.csv\")\n",
    "FreturnsA2Y6M_A=pd.read_csv(relative_path,index_col=0)\n",
    "\n",
    "#returnsA2Y12M\n",
    "relative_path = os.path.join('..', '..',\"Data\",\"Results\",\"TradingStrategies\",\"StrategyA\",\"Futures\",\"returnsA2Y12M.csv\")\n",
    "FreturnsA2Y12M_A=pd.read_csv(relative_path,index_col=0)\n",
    "\n",
    "#returnsA10Y3M\n",
    "relative_path = os.path.join('..', '..',\"Data\",\"Results\",\"TradingStrategies\",\"StrategyA\",\"Futures\",\"returnsA10Y3M.csv\")\n",
    "FreturnsA10Y3M_A=pd.read_csv(relative_path,index_col=0)\n",
    "\n",
    "#returnsA10Y6M\n",
    "relative_path = os.path.join('..', '..',\"Data\",\"Results\",\"TradingStrategies\",\"StrategyA\",\"Futures\",\"returnsA10Y6M.csv\")\n",
    "FreturnsA10Y6M_A=pd.read_csv(relative_path,index_col=0)\n",
    "\n",
    "#returnsA10Y12M\n",
    "relative_path = os.path.join('..', '..',\"Data\",\"Results\",\"TradingStrategies\",\"StrategyA\",\"Futures\",\"returnsA10Y12M.csv\")\n",
    "FreturnsA10Y12M_A=pd.read_csv(relative_path,index_col=0)"
   ]
  },
  {
   "cell_type": "code",
   "execution_count": null,
   "id": "d453a60f",
   "metadata": {},
   "outputs": [],
   "source": [
    "risk_return(FreturnsA2Y3M_A,\"3M\",\"A\")"
   ]
  },
  {
   "cell_type": "code",
   "execution_count": null,
   "id": "d875d884",
   "metadata": {},
   "outputs": [],
   "source": [
    "risk_return(FreturnsA10Y3M_A,\"3M\",\"A\")"
   ]
  },
  {
   "cell_type": "code",
   "execution_count": null,
   "id": "1cb5803c",
   "metadata": {},
   "outputs": [],
   "source": [
    "risk_return(FreturnsA2Y6M_A,\"6M\",\"A\")"
   ]
  },
  {
   "cell_type": "code",
   "execution_count": null,
   "id": "3da50863",
   "metadata": {},
   "outputs": [],
   "source": [
    "risk_return(FreturnsA10Y6M_A,\"6M\",\"A\")"
   ]
  },
  {
   "cell_type": "code",
   "execution_count": null,
   "id": "1663a65d",
   "metadata": {},
   "outputs": [],
   "source": [
    "risk_return(FreturnsA2Y12M_A,\"1Y\",\"A\")"
   ]
  },
  {
   "cell_type": "code",
   "execution_count": null,
   "id": "6ee02690",
   "metadata": {},
   "outputs": [],
   "source": [
    "risk_return(FreturnsA10Y12M_A,\"1Y\",\"A\")"
   ]
  },
  {
   "cell_type": "markdown",
   "id": "f5824bc3",
   "metadata": {},
   "source": [
    "# Strategy B\n",
    "## ETF"
   ]
  },
  {
   "cell_type": "code",
   "execution_count": null,
   "id": "b6b91d1a",
   "metadata": {},
   "outputs": [],
   "source": [
    "#returnsA2Y3M\n",
    "relative_path = os.path.join('..', '..',\"Data\",\"Results\",\"TradingStrategies\",\"StrategyB\",\"ETF\",\"returnsA2Y3M.csv\")\n",
    "returnsA2Y3M_B=pd.read_csv(relative_path,index_col=0)\n",
    "\n",
    "#returnsA2Y6M\n",
    "relative_path = os.path.join('..', '..',\"Data\",\"Results\",\"TradingStrategies\",\"StrategyB\",\"ETF\",\"returnsA2Y6M.csv\")\n",
    "returnsA2Y6M_B=pd.read_csv(relative_path,index_col=0)\n",
    "\n",
    "#returnsA2Y12M\n",
    "relative_path = os.path.join('..', '..',\"Data\",\"Results\",\"TradingStrategies\",\"StrategyB\",\"ETF\",\"returnsA2Y12M.csv\")\n",
    "returnsA2Y12M_B=pd.read_csv(relative_path,index_col=0)\n",
    "\n",
    "#returnsA10Y3M\n",
    "relative_path = os.path.join('..', '..',\"Data\",\"Results\",\"TradingStrategies\",\"StrategyB\",\"ETF\",\"returnsA10Y3M.csv\")\n",
    "returnsA10Y3M_B=pd.read_csv(relative_path,index_col=0)\n",
    "\n",
    "#returnsA10Y6M\n",
    "relative_path = os.path.join('..', '..',\"Data\",\"Results\",\"TradingStrategies\",\"StrategyB\",\"ETF\",\"returnsA10Y6M.csv\")\n",
    "returnsA10Y6M_B=pd.read_csv(relative_path,index_col=0)\n",
    "\n",
    "#returnsA10Y12M\n",
    "relative_path = os.path.join('..', '..',\"Data\",\"Results\",\"TradingStrategies\",\"StrategyB\",\"ETF\",\"returnsA10Y12M.csv\")\n",
    "returnsA10Y12M_B=pd.read_csv(relative_path,index_col=0)"
   ]
  },
  {
   "cell_type": "code",
   "execution_count": null,
   "id": "d7e1ca42",
   "metadata": {},
   "outputs": [],
   "source": [
    "risk_return(returnsA2Y3M_B,\"3M\",\"B\")"
   ]
  },
  {
   "cell_type": "code",
   "execution_count": null,
   "id": "0904879e",
   "metadata": {},
   "outputs": [],
   "source": [
    "risk_return(returnsA10Y3M_B,\"3M\",\"B\")"
   ]
  },
  {
   "cell_type": "code",
   "execution_count": null,
   "id": "7ff4e917",
   "metadata": {},
   "outputs": [],
   "source": [
    "risk_return(returnsA2Y6M_B,\"6M\",\"B\")"
   ]
  },
  {
   "cell_type": "code",
   "execution_count": null,
   "id": "e94e058b",
   "metadata": {},
   "outputs": [],
   "source": [
    "risk_return(returnsA10Y6M_B,\"6M\",\"B\")"
   ]
  },
  {
   "cell_type": "code",
   "execution_count": null,
   "id": "9437982d",
   "metadata": {},
   "outputs": [],
   "source": [
    "risk_return(returnsA2Y12M_B,\"1Y\",\"B\")"
   ]
  },
  {
   "cell_type": "code",
   "execution_count": null,
   "id": "31c56a91",
   "metadata": {},
   "outputs": [],
   "source": [
    "risk_return(returnsA10Y12M_B,\"1Y\",\"B\")"
   ]
  },
  {
   "cell_type": "markdown",
   "id": "2249efb4",
   "metadata": {},
   "source": [
    "## Futures"
   ]
  },
  {
   "cell_type": "code",
   "execution_count": 26,
   "id": "36ee87e2",
   "metadata": {},
   "outputs": [],
   "source": [
    "#returnsA2Y3M\n",
    "relative_path = os.path.join('..', '..',\"Data\",\"Results\",\"TradingStrategies\",\"StrategyB\",\"Futures\",\"returnsA2Y3M.csv\")\n",
    "FreturnsA2Y3M_B=pd.read_csv(relative_path,index_col=0)\n",
    "\n",
    "#returnsA2Y6M\n",
    "relative_path = os.path.join('..', '..',\"Data\",\"Results\",\"TradingStrategies\",\"StrategyB\",\"Futures\",\"returnsA2Y6M.csv\")\n",
    "FreturnsA2Y6M_B=pd.read_csv(relative_path,index_col=0)\n",
    "\n",
    "#returnsA2Y12M\n",
    "relative_path = os.path.join('..', '..',\"Data\",\"Results\",\"TradingStrategies\",\"StrategyB\",\"Futures\",\"returnsA2Y12M.csv\")\n",
    "FreturnsA2Y12M_B=pd.read_csv(relative_path,index_col=0)\n",
    "\n",
    "#returnsA10Y3M\n",
    "relative_path = os.path.join('..', '..',\"Data\",\"Results\",\"TradingStrategies\",\"StrategyB\",\"Futures\",\"returnsA10Y3M.csv\")\n",
    "FreturnsA10Y3M_B=pd.read_csv(relative_path,index_col=0)\n",
    "\n",
    "#returnsA10Y6M\n",
    "relative_path = os.path.join('..', '..',\"Data\",\"Results\",\"TradingStrategies\",\"StrategyB\",\"Futures\",\"returnsA10Y6M.csv\")\n",
    "FreturnsA10Y6M_B=pd.read_csv(relative_path,index_col=0)\n",
    "\n",
    "#returnsA10Y12M\n",
    "relative_path = os.path.join('..', '..',\"Data\",\"Results\",\"TradingStrategies\",\"StrategyB\",\"Futures\",\"returnsA10Y12M.csv\")\n",
    "FreturnsA10Y12M_B=pd.read_csv(relative_path,index_col=0)"
   ]
  },
  {
   "cell_type": "code",
   "execution_count": null,
   "id": "e62f1c8d",
   "metadata": {},
   "outputs": [],
   "source": [
    "risk_return(FreturnsA2Y3M_B,\"3M\",\"B\")"
   ]
  },
  {
   "cell_type": "code",
   "execution_count": null,
   "id": "c5eb3eff",
   "metadata": {},
   "outputs": [],
   "source": [
    "risk_return(FreturnsA10Y3M_B,\"3M\",\"B\")"
   ]
  },
  {
   "cell_type": "code",
   "execution_count": null,
   "id": "1bc4285f",
   "metadata": {},
   "outputs": [],
   "source": [
    "risk_return(FreturnsA2Y6M_B,\"6M\",\"B\")"
   ]
  },
  {
   "cell_type": "code",
   "execution_count": null,
   "id": "2dc4bde5",
   "metadata": {},
   "outputs": [],
   "source": [
    "risk_return(FreturnsA10Y6M_B,\"6M\",\"B\")"
   ]
  },
  {
   "cell_type": "code",
   "execution_count": null,
   "id": "aa412ec9",
   "metadata": {},
   "outputs": [],
   "source": [
    "risk_return(FreturnsA2Y12M_B,\"1Y\",\"B\")"
   ]
  },
  {
   "cell_type": "code",
   "execution_count": null,
   "id": "7c397ba1",
   "metadata": {},
   "outputs": [],
   "source": [
    "risk_return(FreturnsA10Y12M_B,\"1Y\",\"B\")"
   ]
  },
  {
   "cell_type": "markdown",
   "id": "2b049f6f",
   "metadata": {},
   "source": [
    "# Strategy C\n",
    "## ETF"
   ]
  },
  {
   "cell_type": "code",
   "execution_count": 33,
   "id": "c0a7af26",
   "metadata": {},
   "outputs": [],
   "source": [
    "#returnsA2Y3M\n",
    "relative_path = os.path.join('..', '..',\"Data\",\"Results\",\"TradingStrategies\",\"StrategyC\",\"ETF\",\"returnsA2Y3M.csv\")\n",
    "returnsA2Y3M_C=pd.read_csv(relative_path,index_col=0)\n",
    "\n",
    "#returnsA2Y6M\n",
    "relative_path = os.path.join('..', '..',\"Data\",\"Results\",\"TradingStrategies\",\"StrategyC\",\"ETF\",\"returnsA2Y6M.csv\")\n",
    "returnsA2Y6M_C=pd.read_csv(relative_path,index_col=0)\n",
    "\n",
    "#returnsA2Y12M\n",
    "relative_path = os.path.join('..', '..',\"Data\",\"Results\",\"TradingStrategies\",\"StrategyC\",\"ETF\",\"returnsA2Y12M.csv\")\n",
    "returnsA2Y12M_C=pd.read_csv(relative_path,index_col=0)\n",
    "\n",
    "#returnsA10Y3M\n",
    "relative_path = os.path.join('..', '..',\"Data\",\"Results\",\"TradingStrategies\",\"StrategyC\",\"ETF\",\"returnsA10Y3M.csv\")\n",
    "returnsA10Y3M_C=pd.read_csv(relative_path,index_col=0)\n",
    "\n",
    "#returnsA10Y6M\n",
    "relative_path = os.path.join('..', '..',\"Data\",\"Results\",\"TradingStrategies\",\"StrategyC\",\"ETF\",\"returnsA10Y6M.csv\")\n",
    "returnsA10Y6M_C=pd.read_csv(relative_path,index_col=0)\n",
    "\n",
    "#returnsA10Y12M\n",
    "relative_path = os.path.join('..', '..',\"Data\",\"Results\",\"TradingStrategies\",\"StrategyC\",\"ETF\",\"returnsA10Y12M.csv\")\n",
    "returnsA10Y12M_C=pd.read_csv(relative_path,index_col=0)"
   ]
  },
  {
   "cell_type": "code",
   "execution_count": null,
   "id": "fea93830",
   "metadata": {},
   "outputs": [],
   "source": [
    "risk_return(returnsA2Y3M_C,\"3M\",\"C\")"
   ]
  },
  {
   "cell_type": "code",
   "execution_count": null,
   "id": "aec9ef4a",
   "metadata": {},
   "outputs": [],
   "source": [
    "risk_return(returnsA10Y3M_C,\"3M\",\"C\")"
   ]
  },
  {
   "cell_type": "code",
   "execution_count": null,
   "id": "23c5f49b",
   "metadata": {},
   "outputs": [],
   "source": [
    "risk_return(returnsA2Y6M_C,\"6M\",\"C\")"
   ]
  },
  {
   "cell_type": "code",
   "execution_count": null,
   "id": "cbbb3e66",
   "metadata": {},
   "outputs": [],
   "source": [
    "risk_return(returnsA10Y6M_C,\"6M\",\"C\")"
   ]
  },
  {
   "cell_type": "code",
   "execution_count": null,
   "id": "4d050b8a",
   "metadata": {},
   "outputs": [],
   "source": [
    "risk_return(returnsA2Y12M_C,\"1Y\",\"C\")"
   ]
  },
  {
   "cell_type": "code",
   "execution_count": null,
   "id": "bd786bf0",
   "metadata": {},
   "outputs": [],
   "source": [
    "risk_return(returnsA10Y12M_C,\"1Y\",\"C\")"
   ]
  },
  {
   "cell_type": "markdown",
   "id": "ee631009",
   "metadata": {},
   "source": [
    "## Futures"
   ]
  },
  {
   "cell_type": "code",
   "execution_count": 40,
   "id": "a6ef941d",
   "metadata": {},
   "outputs": [],
   "source": [
    "#returnsA2Y3M\n",
    "relative_path = os.path.join('..', '..',\"Data\",\"Results\",\"TradingStrategies\",\"StrategyC\",\"Futures\",\"returnsA2Y3M.csv\")\n",
    "FreturnsA2Y3M_C=pd.read_csv(relative_path,index_col=0)\n",
    "\n",
    "#returnsA2Y6M\n",
    "relative_path = os.path.join('..', '..',\"Data\",\"Results\",\"TradingStrategies\",\"StrategyC\",\"Futures\",\"returnsA2Y6M.csv\")\n",
    "FreturnsA2Y6M_C=pd.read_csv(relative_path,index_col=0)\n",
    "\n",
    "#returnsA2Y12M\n",
    "relative_path = os.path.join('..', '..',\"Data\",\"Results\",\"TradingStrategies\",\"StrategyC\",\"Futures\",\"returnsA2Y12M.csv\")\n",
    "FreturnsA2Y12M_C=pd.read_csv(relative_path,index_col=0)\n",
    "\n",
    "#returnsA10Y3M\n",
    "relative_path = os.path.join('..', '..',\"Data\",\"Results\",\"TradingStrategies\",\"StrategyC\",\"Futures\",\"returnsA10Y3M.csv\")\n",
    "FreturnsA10Y3M_C=pd.read_csv(relative_path,index_col=0)\n",
    "\n",
    "#returnsA10Y6M\n",
    "relative_path = os.path.join('..', '..',\"Data\",\"Results\",\"TradingStrategies\",\"StrategyC\",\"Futures\",\"returnsA10Y6M.csv\")\n",
    "FreturnsA10Y6M_C=pd.read_csv(relative_path,index_col=0)\n",
    "\n",
    "#returnsA10Y12M\n",
    "relative_path = os.path.join('..', '..',\"Data\",\"Results\",\"TradingStrategies\",\"StrategyC\",\"Futures\",\"returnsA10Y12M.csv\")\n",
    "FreturnsA10Y12M_C=pd.read_csv(relative_path,index_col=0)"
   ]
  },
  {
   "cell_type": "code",
   "execution_count": null,
   "id": "3b278592",
   "metadata": {},
   "outputs": [],
   "source": [
    "risk_return(FreturnsA2Y3M_C,\"3M\",\"C\")"
   ]
  },
  {
   "cell_type": "code",
   "execution_count": null,
   "id": "981957ad",
   "metadata": {},
   "outputs": [],
   "source": [
    "risk_return(FreturnsA10Y3M_C,\"3M\",\"C\")"
   ]
  },
  {
   "cell_type": "code",
   "execution_count": null,
   "id": "0f9ccfbd",
   "metadata": {},
   "outputs": [],
   "source": [
    "risk_return(FreturnsA2Y6M_C,\"6M\",\"C\")"
   ]
  },
  {
   "cell_type": "code",
   "execution_count": null,
   "id": "b3c0ca9d",
   "metadata": {},
   "outputs": [],
   "source": [
    "risk_return(FreturnsA10Y6M_C,\"6M\",\"C\")"
   ]
  },
  {
   "cell_type": "code",
   "execution_count": null,
   "id": "84a60646",
   "metadata": {},
   "outputs": [],
   "source": [
    "risk_return(FreturnsA2Y12M_C,\"1Y\",\"C\")"
   ]
  },
  {
   "cell_type": "code",
   "execution_count": null,
   "id": "aa67973c",
   "metadata": {},
   "outputs": [],
   "source": [
    "risk_return(FreturnsA10Y12M_C,\"1Y\",\"C\")"
   ]
  },
  {
   "cell_type": "markdown",
   "id": "1cbbc287",
   "metadata": {},
   "source": [
    "# Return Graphs\n",
    "The Graphs below show how 100$ invested into the strategies would have performed over time"
   ]
  },
  {
   "cell_type": "code",
   "execution_count": 47,
   "id": "2a8d3b3f",
   "metadata": {},
   "outputs": [],
   "source": [
    "def MDD_df_calc(returns,forecast_type):\n",
    "    returns.index=pd.to_datetime(returns.index)\n",
    "    init=100\n",
    "    HWM=[100]\n",
    "    values=[100]\n",
    "    MDD=[]\n",
    "    DD=[]\n",
    "    for i in returns[forecast_type]:\n",
    "        r_simp=np.exp(i)\n",
    "        init=init*r_simp\n",
    "        values.append(init)\n",
    "        HWM.append(max(init,HWM[-1]))\n",
    "        DD.append(1-init/max(HWM))\n",
    "        MDD.append(max(DD))\n",
    "    last_q=pd.Timestamp(returns.index[-1])\n",
    "    next_quarter_end=last_q.to_period(\"Q\")+1\n",
    "    next_quarter_end_date=next_quarter_end.to_timestamp(how=\"end\")\n",
    "    dates=list(returns.index)\n",
    "    dates.append(next_quarter_end_date)\n",
    "    MDD_df=pd.DataFrame({\"HWM\":HWM,\"Values\":values},index=dates)\n",
    "    return(MDD_df)"
   ]
  },
  {
   "cell_type": "code",
   "execution_count": null,
   "id": "d183ed29",
   "metadata": {},
   "outputs": [],
   "source": [
    "MDD_df_calc(returnsA10Y3M_A,\"Expert Forecast - Return\").plot()"
   ]
  },
  {
   "cell_type": "code",
   "execution_count": 49,
   "id": "e04a0699",
   "metadata": {},
   "outputs": [],
   "source": [
    "#function to export formatted data to excel\n",
    "\n",
    "def file_saver(df,relative_path):\n",
    "    with pd.ExcelWriter(relative_path, engine='xlsxwriter') as writer:\n",
    "        df.to_excel(writer, sheet_name='Sheet1', index=True)\n",
    "        \n",
    "        workbook = writer.book\n",
    "        worksheet = writer.sheets['Sheet1']\n",
    "        \n",
    "        # Apply formatting\n",
    "        format_float = workbook.add_format({'num_format': '0.00'})\n",
    "        format_percent = workbook.add_format({'num_format': '0.00%'})\n",
    "        format_three_decimals = workbook.add_format({'num_format': '0.000'})\n",
    "        format_int= workbook.add_format({'num_format': '0'})\n",
    "\n",
    "        n=len(df)\n",
    "        \n",
    "        # Apply the formats to the appropriate columns\n",
    "        #worksheet.set_column('A:A', None, format_float)  # \"Profit (in USD)\"\n",
    "        worksheet.set_column('B:B', None, format_percent) # \"Log-Returns (ann.)\"\n",
    "        worksheet.set_column('C:C', None, format_percent)  # \"Volatility (ann.)\"\n",
    "        worksheet.set_column('D:D', None, format_three_decimals)  # \"Skewness\"\n",
    "        worksheet.set_column('E:E', None, format_three_decimals)  # \"Kurtosis\"\n",
    "        worksheet.set_column('F:F', None, format_percent)  # \"VaR (95%)\"\n",
    "        worksheet.set_column('G:G', None, format_percent)  # \"Maximum Drawdown\"\n",
    "        worksheet.set_column('H:H', None, format_three_decimals)  # \"Sharpe Ratio\"\n",
    "        worksheet.set_row(n, None, format_int)  # \"Number of Observations\""
   ]
  },
  {
   "cell_type": "code",
   "execution_count": 50,
   "id": "3496e61b",
   "metadata": {},
   "outputs": [],
   "source": [
    "strategies=[\"A\",\"B\",\"C\"]\n",
    "forecast_horizons=[\"3M\",\"6M\",\"1Y\"]\n",
    "Instrument=[\"ETF\",\"Futures\"]\n",
    "Yields=[2,10]\n",
    "\n",
    "for strategy in strategies:\n",
    "    for forecast_horizon in forecast_horizons:\n",
    "        for instrument in Instrument:\n",
    "            for yield_ in Yields:\n",
    "                if forecast_horizon==\"1Y\":\n",
    "                    f_h_name=\"12M\"\n",
    "                else:\n",
    "                    f_h_name=forecast_horizon\n",
    "                relative_path = os.path.join('..', '..',\"Data\",\"Results\",\"TradingStrategies\",\"Strategy\"+strategy,instrument,\"returnsA\"+str(yield_)+\"Y\"+f_h_name+\".csv\")\n",
    "                df=pd.read_csv(relative_path,index_col=0)\n",
    "                return_df=risk_return(df,forecast_horizon,strategy)\n",
    "                relative_path = os.path.join('..', '..',\"Data\",\"Results\",\"RiskReturn\",\"Strategy\"+strategy,instrument,\"RiskReturnA\"+str(yield_)+\"Y\"+f_h_name+\".xlsx\")\n",
    "                file_saver(return_df,relative_path)\n",
    "                #return_df.to_excel(relative_path)"
   ]
  },
  {
   "cell_type": "code",
   "execution_count": 51,
   "id": "8225971f",
   "metadata": {},
   "outputs": [],
   "source": [
    "def excess_return_calc(df,forecast_horizon,r_f):\n",
    "    r_f.index=pd.to_datetime(r_f.index)\n",
    "    qrf=((((r_f.loc[df.index,forecast_horizon]/100)+1)**0.25)-1)\n",
    "    simple_r=np.exp(df)-1\n",
    "    excess_return_s=simple_r.sub(qrf,axis=0)\n",
    "    excess_return_log=np.log(1+excess_return_s)\n",
    "    return (excess_return_log)"
   ]
  },
  {
   "cell_type": "code",
   "execution_count": 52,
   "id": "845344e9",
   "metadata": {},
   "outputs": [],
   "source": [
    "def graph_creator(df,relative_path):\n",
    "    df.index=pd.to_datetime(df.index)\n",
    "    n=df.shape[1]//2\n",
    "    #only keep return data\n",
    "    new_df=df.iloc[:,-n:]\n",
    "    #add first quarter with 0 returns\n",
    "    new_date=df.index[0]-pd.offsets.QuarterEnd(n=1)\n",
    "    new_df.loc(axis=0)[new_date]=0\n",
    "    new_df=new_df.sort_index()\n",
    "    new_df.columns=[column.replace(\" - Return\", \"\") for column in new_df.columns]\n",
    "    new_df.rename(columns={'Future Implied Yield':'Futures-Implied Yield'}, inplace=True)\n",
    "    #create the cumulative sum graph\n",
    "    ax = new_df.cumsum().plot(figsize=(13, 7))\n",
    "    plt.axhline(color=\"black\")\n",
    "    plt.legend()\n",
    "    matplotlib.style.use(\"seaborn-paper\")\n",
    "    \n",
    "    # Format y-axis as percentages\n",
    "    ax.yaxis.set_major_formatter(mticker.PercentFormatter(1.0))\n",
    "    \n",
    "    plt.savefig(relative_path,bbox_inches='tight', dpi=300)\n",
    "    plt.close()"
   ]
  },
  {
   "cell_type": "code",
   "execution_count": null,
   "id": "ee54f70d",
   "metadata": {},
   "outputs": [],
   "source": [
    "strategies=[\"A\",\"B\",\"C\"]\n",
    "forecast_horizons=[\"3M\",\"6M\",\"1Y\"]\n",
    "Instrument=[\"ETF\",\"Futures\"]\n",
    "Yields=[2,10]\n",
    "\n",
    "for strategy in strategies:\n",
    "    for forecast_horizon in forecast_horizons:\n",
    "        for instrument in Instrument:\n",
    "            for yield_ in Yields:\n",
    "                if forecast_horizon==\"1Y\":\n",
    "                    f_h_name=\"12M\"\n",
    "                else:\n",
    "                    f_h_name=forecast_horizon\n",
    "                relative_path = os.path.join('..', '..',\"Data\",\"Results\",\"TradingStrategies\",\"Strategy\"+strategy,instrument,\"returnsA\"+str(yield_)+\"Y\"+f_h_name+\".csv\")\n",
    "                df=pd.read_csv(relative_path,index_col=0)\n",
    "                relative_path = os.path.join('..', '..',\"Data\",\"Results\",\"RiskReturn\",\"Strategy\"+strategy,instrument,\"CumulativeReturn\"+str(yield_)+\"Y\"+f_h_name+\".png\")\n",
    "                graph_creator(df,relative_path)\n",
    "                #return_df.to_excel(relative_path)"
   ]
  }
 ],
 "metadata": {
  "kernelspec": {
   "display_name": "base",
   "language": "python",
   "name": "python3"
  },
  "language_info": {
   "codemirror_mode": {
    "name": "ipython",
    "version": 3
   },
   "file_extension": ".py",
   "mimetype": "text/x-python",
   "name": "python",
   "nbconvert_exporter": "python",
   "pygments_lexer": "ipython3",
   "version": "3.9.12"
  },
  "toc": {
   "base_numbering": 1,
   "nav_menu": {},
   "number_sections": true,
   "sideBar": true,
   "skip_h1_title": false,
   "title_cell": "Table of Contents",
   "title_sidebar": "Contents",
   "toc_cell": false,
   "toc_position": {},
   "toc_section_display": true,
   "toc_window_display": false
  }
 },
 "nbformat": 4,
 "nbformat_minor": 5
}
