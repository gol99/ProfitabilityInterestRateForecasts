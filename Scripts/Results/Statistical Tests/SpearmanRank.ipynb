{
 "cells": [
  {
   "cell_type": "code",
   "execution_count": 1,
   "metadata": {},
   "outputs": [],
   "source": [
    "import pandas as pd\n",
    "import os\n",
    "import numpy as np\n",
    "from scipy.stats import pearsonr"
   ]
  },
  {
   "cell_type": "markdown",
   "metadata": {},
   "source": [
    "# Strategy A\n",
    "## ETF"
   ]
  },
  {
   "cell_type": "code",
   "execution_count": 2,
   "metadata": {},
   "outputs": [],
   "source": [
    "###Ranked error measure data\n",
    "\n",
    "#2y3m\n",
    "relative_path = os.path.join('..','..', '..',\"Data\",'Results',\"Descriptive\",\"ErrorMetrics\",\"Rank\",\"2Y3M.xlsx\")\n",
    "errormeasure2y3m=pd.read_excel(relative_path,index_col=0).iloc[1:,:]\n",
    "#2y6m\n",
    "relative_path = os.path.join('..','..', '..',\"Data\",'Results',\"Descriptive\",\"ErrorMetrics\",\"Rank\",\"2Y6M.xlsx\")\n",
    "errormeasure2y6m=pd.read_excel(relative_path,index_col=0).iloc[1:,:]\n",
    "#2y12m\n",
    "relative_path = os.path.join('..','..', '..',\"Data\",'Results',\"Descriptive\",\"ErrorMetrics\",\"Rank\",\"2Y12M.xlsx\")\n",
    "errormeasure2y12m=pd.read_excel(relative_path,index_col=0).iloc[1:,:]\n",
    "#10y3m\n",
    "relative_path = os.path.join('..','..', '..',\"Data\",'Results',\"Descriptive\",\"ErrorMetrics\",\"Rank\",\"10Y3M.xlsx\")\n",
    "errormeasure10y3m=pd.read_excel(relative_path,index_col=0).iloc[1:,:]\n",
    "#10y6m\n",
    "relative_path = os.path.join('..','..', '..',\"Data\",'Results',\"Descriptive\",\"ErrorMetrics\",\"Rank\",\"10Y6M.xlsx\")\n",
    "errormeasure10y6m=pd.read_excel(relative_path,index_col=0).iloc[1:,:]\n",
    "#10y12m\n",
    "relative_path = os.path.join('..','..', '..',\"Data\",'Results',\"Descriptive\",\"ErrorMetrics\",\"Rank\",\"10Y12M.xlsx\")\n",
    "errormeasure10y12m=pd.read_excel(relative_path,index_col=0).iloc[1:,:]\n",
    "\n",
    "### Performance data\n",
    "\n",
    "#2y3m\n",
    "relative_path = os.path.join('..','..', '..',\"Data\",'Results',\"TradingStrategies\",\"StrategyA\",\"ETF\",\"returnsA2Y3M.csv\")\n",
    "returns2Y3M=pd.read_csv(relative_path,index_col=0)\n",
    "#2y6m\n",
    "relative_path = os.path.join('..','..', '..',\"Data\",'Results',\"TradingStrategies\",\"StrategyA\",\"ETF\",\"returnsA2Y6M.csv\")\n",
    "returns2Y6M=pd.read_csv(relative_path,index_col=0)\n",
    "#2y12m\n",
    "relative_path = os.path.join('..','..', '..',\"Data\",'Results',\"TradingStrategies\",\"StrategyA\",\"ETF\",\"returnsA2Y12M.csv\")\n",
    "returns2Y12M=pd.read_csv(relative_path,index_col=0)\n",
    "#10y3m\n",
    "relative_path = os.path.join('..','..', '..',\"Data\",'Results',\"TradingStrategies\",\"StrategyA\",\"ETF\",\"returnsA10Y3M.csv\")\n",
    "returns10Y3M=pd.read_csv(relative_path,index_col=0)\n",
    "#10y6m\n",
    "relative_path = os.path.join('..','..', '..',\"Data\",'Results',\"TradingStrategies\",\"StrategyA\",\"ETF\",\"returnsA10Y6M.csv\")\n",
    "returns10Y6M=pd.read_csv(relative_path,index_col=0)\n",
    "#10y12m\n",
    "relative_path = os.path.join('..','..', '..',\"Data\",'Results',\"TradingStrategies\",\"StrategyA\",\"ETF\",\"returnsA10Y12M.csv\")\n",
    "returns10Y12M=pd.read_csv(relative_path,index_col=0)"
   ]
  },
  {
   "cell_type": "code",
   "execution_count": null,
   "metadata": {},
   "outputs": [],
   "source": [
    "errormeasure2y3m"
   ]
  },
  {
   "cell_type": "code",
   "execution_count": null,
   "metadata": {},
   "outputs": [],
   "source": [
    "returns2Y3M"
   ]
  },
  {
   "cell_type": "code",
   "execution_count": 5,
   "metadata": {},
   "outputs": [],
   "source": [
    "#Function to add rank for profit\n",
    "def rank_profit(returns_df,rank_df):\n",
    "    #empty dictionary to store profit values for different error measures\n",
    "    new_row_dic={}\n",
    "    new_row_dic['No-Change in Growth']=sum(returns_df['No-Change(g) - Profit'])\n",
    "    new_row_dic['Implied Yield']=sum(returns_df['Future Implied Yield - Profit'])\n",
    "    new_row_dic['Forward']=sum(returns_df['Forward - Profit'])\n",
    "    new_row_dic['Consensus Forecast']=sum(returns_df['Expert Forecast - Profit'])\n",
    "    new_row_dic['Individual Expert Forecast']=sum(returns_df['Individual Forecast - Profit'])\n",
    "    #add sum of profit values to the rank dataframe and rank the profits\n",
    "    rank_df[\"Profit\"]=new_row_dic.values()\n",
    "    rank_df[\"Profit\"]=rank_df[\"Profit\"].rank(method='average',ascending=False)\n",
    "    #rerrank, so ranks are between 1 and 5\n",
    "    rank_df=rank_df.rank(method='average',ascending=True)\n",
    "    return rank_df"
   ]
  },
  {
   "cell_type": "code",
   "execution_count": 6,
   "metadata": {},
   "outputs": [],
   "source": [
    "#function to calculate spearman rank correlation\n",
    "def spearman_rank_corr(rank_data):\n",
    "    #get individual columns with ranks\n",
    "    MAE=rank_data[\"MAE\"]\n",
    "    RMSE=rank_data[\"RMSE\"]\n",
    "    TheilsU=rank_data[\"Theil's U\"]\n",
    "    DirectioanalAccuracy=rank_data[\"Directional Accuracy\"]\n",
    "    profit=rank_data[\"Profit\"]\n",
    "    #calculate spearman rank correlation and p-value. Store in dictionary\n",
    "    pearsonr_dic_values={\"MAE\":pearsonr(MAE,profit)[0],\"RMSE\":pearsonr(RMSE,profit)[0],\"TheilsU\":pearsonr(TheilsU,profit)[0],\"DirectionalAccuracy\":pearsonr(DirectioanalAccuracy,profit)[0]}\n",
    "    pearsonr_dic_pvalues={\"MAE\":pearsonr(MAE,profit)[1],\"RMSE\":pearsonr(RMSE,profit)[1],\"TheilsU\":pearsonr(TheilsU,profit)[1],\"DirectionalAccuracy\":pearsonr(DirectioanalAccuracy,profit)[1]}\n",
    "    return pearsonr_dic_values,pearsonr_dic_pvalues"
   ]
  },
  {
   "cell_type": "code",
   "execution_count": 7,
   "metadata": {},
   "outputs": [],
   "source": [
    "#claculate spearman rank correlation for all the dataframes\n",
    "pearsonr_values_2Y3M,pearsonr_pvalues2Y3M=spearman_rank_corr(rank_profit(returns2Y3M,errormeasure2y3m))\n",
    "pearsonr_values_2Y6M,pearsonr_pvalues2Y6M=spearman_rank_corr(rank_profit(returns2Y6M,errormeasure2y6m))\n",
    "pearsonr_values_2Y12M,pearsonr_pvalues2Y12M=spearman_rank_corr(rank_profit(returns2Y12M,errormeasure2y12m))\n",
    "pearsonr_values_10Y3M,pearsonr_pvalues10Y3M=spearman_rank_corr(rank_profit(returns10Y3M,errormeasure10y3m))\n",
    "pearsonr_values_10Y6M,pearsonr_pvalues10Y6M=spearman_rank_corr(rank_profit(returns10Y6M,errormeasure10y6m))\n",
    "pearsonr_values_10Y12M,pearsonr_pvalues10Y12M=spearman_rank_corr(rank_profit(returns10Y12M,errormeasure10y12m))"
   ]
  },
  {
   "cell_type": "code",
   "execution_count": 8,
   "metadata": {},
   "outputs": [],
   "source": [
    "#create DataFrame to store the results\n",
    "row_names=[\"2Y3M\",\"2Y6M\",\"2Y12M\",\"10Y3M\",\"10Y6M\",\"10Y12M\"]\n",
    "#dataframe for values\n",
    "spearman_rank_ETFA=pd.DataFrame([pearsonr_values_2Y3M,pearsonr_values_2Y6M,pearsonr_values_2Y12M,pearsonr_values_10Y3M,pearsonr_values_10Y6M,pearsonr_values_10Y12M],index=row_names)\n",
    "#dataframe for p-values\n",
    "spearman_rank_ETFA_pvalues=pd.DataFrame([pearsonr_pvalues2Y3M,pearsonr_pvalues2Y6M,pearsonr_pvalues2Y12M,pearsonr_pvalues10Y3M,pearsonr_pvalues10Y6M,pearsonr_pvalues10Y12M],index=row_names)"
   ]
  },
  {
   "cell_type": "code",
   "execution_count": null,
   "metadata": {},
   "outputs": [],
   "source": [
    "spearman_rank_ETFA"
   ]
  },
  {
   "cell_type": "code",
   "execution_count": null,
   "metadata": {},
   "outputs": [],
   "source": [
    "spearman_rank_ETFA_pvalues"
   ]
  },
  {
   "cell_type": "code",
   "execution_count": 11,
   "metadata": {},
   "outputs": [],
   "source": [
    "#save file\n",
    "relative_path = os.path.join('..', '..','..',\"Data\",'Results',\"StatisticalTests\",\"Spearman Rank\",\"spearman_rank_ETFA.xlsx\")\n",
    "spearman_rank_ETFA.to_excel(relative_path)\n",
    "relative_path = os.path.join('..', '..','..',\"Data\",'Results',\"StatisticalTests\",\"Spearman Rank\",\"spearman_rank_ETFA_pvalues.xlsx\")\n",
    "spearman_rank_ETFA_pvalues.to_excel(relative_path)"
   ]
  },
  {
   "cell_type": "markdown",
   "metadata": {},
   "source": [
    "## Futures"
   ]
  },
  {
   "cell_type": "code",
   "execution_count": 12,
   "metadata": {},
   "outputs": [],
   "source": [
    "### Performance data\n",
    "\n",
    "#2y3m\n",
    "relative_path = os.path.join('..','..', '..',\"Data\",'Results',\"TradingStrategies\",\"StrategyA\",\"Futures\",\"returnsA2Y3M.csv\")\n",
    "returns2Y3M=pd.read_csv(relative_path,index_col=0)\n",
    "#2y6m\n",
    "relative_path = os.path.join('..','..', '..',\"Data\",'Results',\"TradingStrategies\",\"StrategyA\",\"Futures\",\"returnsA2Y6M.csv\")\n",
    "returns2Y6M=pd.read_csv(relative_path,index_col=0)\n",
    "#2y12m\n",
    "relative_path = os.path.join('..','..', '..',\"Data\",'Results',\"TradingStrategies\",\"StrategyA\",\"Futures\",\"returnsA2Y12M.csv\")\n",
    "returns2Y12M=pd.read_csv(relative_path,index_col=0)\n",
    "#10y3m\n",
    "relative_path = os.path.join('..','..', '..',\"Data\",'Results',\"TradingStrategies\",\"StrategyA\",\"Futures\",\"returnsA10Y3M.csv\")\n",
    "returns10Y3M=pd.read_csv(relative_path,index_col=0)\n",
    "#10y6m\n",
    "relative_path = os.path.join('..','..', '..',\"Data\",'Results',\"TradingStrategies\",\"StrategyA\",\"Futures\",\"returnsA10Y6M.csv\")\n",
    "returns10Y6M=pd.read_csv(relative_path,index_col=0)\n",
    "#10y12m\n",
    "relative_path = os.path.join('..','..', '..',\"Data\",'Results',\"TradingStrategies\",\"StrategyA\",\"Futures\",\"returnsA10Y12M.csv\")\n",
    "returns10Y12M=pd.read_csv(relative_path,index_col=0)"
   ]
  },
  {
   "cell_type": "code",
   "execution_count": 13,
   "metadata": {},
   "outputs": [],
   "source": [
    "#Function to add rank for profit\n",
    "def rank_profitF1(returns_df,rank_df):\n",
    "    #empty dictionary to store profit values for different error measures\n",
    "    new_row_dic={}\n",
    "    new_row_dic['No-Change in Growth']=sum(returns_df['No-Change(g) - Profit'])\n",
    "    new_row_dic['Implied Yield']=sum(returns_df['Future Implied - Profit'])\n",
    "    new_row_dic['Forward']=sum(returns_df['Forward - Profit'])\n",
    "    new_row_dic['Consensus Forecast']=sum(returns_df['Expert Forecast - Profit'])\n",
    "    new_row_dic['Individual Expert Forecast']=sum(returns_df['Individual Forecast - Profit'])\n",
    "    #add sum of profit values to the rank dataframe and rank the profits\n",
    "    rank_df[\"Profit\"]=new_row_dic.values()\n",
    "    rank_df[\"Profit\"]=rank_df[\"Profit\"].rank(method='average',ascending=False)\n",
    "    #rerrank, so ranks are between 1 and 5\n",
    "    rank_df=rank_df.rank(method='average',ascending=True)\n",
    "    return rank_df"
   ]
  },
  {
   "cell_type": "code",
   "execution_count": 14,
   "metadata": {},
   "outputs": [],
   "source": [
    "#Function to add rank for profit\n",
    "def rank_profitF2(returns_df,rank_df):\n",
    "    #empty dictionary to store profit values for different error measures\n",
    "    new_row_dic={}\n",
    "    new_row_dic['No-Change in Growth']=sum(returns_df['No-Change(g) - Profit'])\n",
    "    new_row_dic['Implied Yield']=sum(returns_df['Implied Yield - Profit'])\n",
    "    new_row_dic['Forward']=sum(returns_df['Forward - Profit'])\n",
    "    new_row_dic['Consensus Forecast']=sum(returns_df['Expert Forecast - Profit'])\n",
    "    new_row_dic['Individual Expert Forecast']=sum(returns_df['Individual Forecast - Profit'])\n",
    "    #add sum of profit values to the rank dataframe and rank the profits\n",
    "    rank_df[\"Profit\"]=new_row_dic.values()\n",
    "    rank_df[\"Profit\"]=rank_df[\"Profit\"].rank(method='average',ascending=False)\n",
    "    return rank_df"
   ]
  },
  {
   "cell_type": "code",
   "execution_count": 15,
   "metadata": {},
   "outputs": [],
   "source": [
    "#claculate spearman rank correlation for all the dataframes\n",
    "pearsonr_values_2Y3M,pearsonr_pvalues2Y3M=spearman_rank_corr(rank_profitF1(returns2Y3M,errormeasure2y3m))\n",
    "pearsonr_values_2Y6M,pearsonr_pvalues2Y6M=spearman_rank_corr(rank_profitF2(returns2Y6M,errormeasure2y6m))\n",
    "pearsonr_values_2Y12M,pearsonr_pvalues2Y12M=spearman_rank_corr(rank_profitF2(returns2Y12M,errormeasure2y12m))\n",
    "pearsonr_values_10Y3M,pearsonr_pvalues10Y3M=spearman_rank_corr(rank_profitF1(returns10Y3M,errormeasure10y3m))\n",
    "pearsonr_values_10Y6M,pearsonr_pvalues10Y6M=spearman_rank_corr(rank_profitF2(returns10Y6M,errormeasure10y6m))\n",
    "pearsonr_values_10Y12M,pearsonr_pvalues10Y12M=spearman_rank_corr(rank_profitF2(returns10Y12M,errormeasure10y12m))"
   ]
  },
  {
   "cell_type": "code",
   "execution_count": 16,
   "metadata": {},
   "outputs": [],
   "source": [
    "#create DataFrame to store the results\n",
    "row_names=[\"2Y3M\",\"2Y6M\",\"2Y12M\",\"10Y3M\",\"10Y6M\",\"10Y12M\"]\n",
    "#dataframe for values\n",
    "spearman_rank_FuturesA=pd.DataFrame([pearsonr_values_2Y3M,pearsonr_values_2Y6M,pearsonr_values_2Y12M,pearsonr_values_10Y3M,pearsonr_values_10Y6M,pearsonr_values_10Y12M],index=row_names)\n",
    "#dataframe for p-values\n",
    "spearman_rank_FuturesA_pvalues=pd.DataFrame([pearsonr_pvalues2Y3M,pearsonr_pvalues2Y6M,pearsonr_pvalues2Y12M,pearsonr_pvalues10Y3M,pearsonr_pvalues10Y6M,pearsonr_pvalues10Y12M],index=row_names)"
   ]
  },
  {
   "cell_type": "code",
   "execution_count": 17,
   "metadata": {},
   "outputs": [],
   "source": [
    "#save file\n",
    "relative_path = os.path.join('..', '..','..',\"Data\",'Results',\"StatisticalTests\",\"Spearman Rank\",\"spearman_rank_FuturesA.xlsx\")\n",
    "spearman_rank_FuturesA.to_excel(relative_path)\n",
    "relative_path = os.path.join('..', '..','..',\"Data\",'Results',\"StatisticalTests\",\"Spearman Rank\",\"spearman_rank_FuturesA_pvalues.xlsx\")\n",
    "spearman_rank_FuturesA_pvalues.to_excel(relative_path)"
   ]
  },
  {
   "cell_type": "code",
   "execution_count": null,
   "metadata": {},
   "outputs": [],
   "source": [
    "spearman_rank_FuturesA"
   ]
  },
  {
   "cell_type": "code",
   "execution_count": null,
   "metadata": {},
   "outputs": [],
   "source": [
    "spearman_rank_FuturesA_pvalues"
   ]
  },
  {
   "cell_type": "markdown",
   "metadata": {},
   "source": [
    "# Strategy B\n",
    "## ETF"
   ]
  },
  {
   "cell_type": "code",
   "execution_count": 20,
   "metadata": {},
   "outputs": [],
   "source": [
    "### Performance data\n",
    "\n",
    "#2y3m\n",
    "relative_path = os.path.join('..','..', '..',\"Data\",'Results',\"TradingStrategies\",\"StrategyB\",\"ETF\",\"returnsA2Y3M.csv\")\n",
    "returns2Y3M=pd.read_csv(relative_path,index_col=0).iloc[:,1:]\n",
    "#2y6m\n",
    "relative_path = os.path.join('..','..', '..',\"Data\",'Results',\"TradingStrategies\",\"StrategyB\",\"ETF\",\"returnsA2Y6M.csv\")\n",
    "returns2Y6M=pd.read_csv(relative_path,index_col=0).iloc[:,1:]\n",
    "#2y12m\n",
    "relative_path = os.path.join('..','..', '..',\"Data\",'Results',\"TradingStrategies\",\"StrategyB\",\"ETF\",\"returnsA2Y12M.csv\")\n",
    "returns2Y12M=pd.read_csv(relative_path,index_col=0).iloc[:,1:]\n",
    "#10y3m\n",
    "relative_path = os.path.join('..','..', '..',\"Data\",'Results',\"TradingStrategies\",\"StrategyB\",\"ETF\",\"returnsA10Y3M.csv\")\n",
    "returns10Y3M=pd.read_csv(relative_path,index_col=0).iloc[:,1:]\n",
    "#10y6m\n",
    "relative_path = os.path.join('..','..', '..',\"Data\",'Results',\"TradingStrategies\",\"StrategyB\",\"ETF\",\"returnsA10Y6M.csv\")\n",
    "returns10Y6M=pd.read_csv(relative_path,index_col=0).iloc[:,1:]\n",
    "#10y12m\n",
    "relative_path = os.path.join('..','..', '..',\"Data\",'Results',\"TradingStrategies\",\"StrategyB\",\"ETF\",\"returnsA10Y12M.csv\")\n",
    "returns10Y12M=pd.read_csv(relative_path,index_col=0).iloc[:,1:]"
   ]
  },
  {
   "cell_type": "code",
   "execution_count": 21,
   "metadata": {},
   "outputs": [],
   "source": [
    "#Function to add rank for profit\n",
    "def rank_profit_ETFB(returns_df,rank_df):\n",
    "    #empty dictionary to store profit values for different error measures\n",
    "    new_row_dic={}\n",
    "    new_row_dic['No-Change in Growth']=sum(returns_df['No-Change(g) - Profit'])\n",
    "    new_row_dic['Forward']=sum(returns_df['Forward - Profit'])\n",
    "    new_row_dic['Consensus Forecast']=sum(returns_df['Expert Forecast - Profit'])\n",
    "    new_row_dic['Individual Expert Forecast']=sum(returns_df['Individual Forecast - Profit'])\n",
    "    #add sum of profit values to the rank dataframe and rank the profits\n",
    "    rank_df[\"Profit\"]=new_row_dic.values()\n",
    "    rank_df[\"Profit\"]=rank_df[\"Profit\"].rank(method='average',ascending=False)\n",
    "    #rerrank, so ranks are between 1 and 5\n",
    "    rank_df=rank_df.rank(method='average',ascending=True)\n",
    "    return rank_df"
   ]
  },
  {
   "cell_type": "code",
   "execution_count": null,
   "metadata": {},
   "outputs": [],
   "source": [
    "errormeasure2y3m"
   ]
  },
  {
   "cell_type": "code",
   "execution_count": 23,
   "metadata": {},
   "outputs": [],
   "source": [
    "#claculate spearman rank correlation for all the dataframes\n",
    "pearsonr_values_2Y3M,pearsonr_pvalues2Y3M=spearman_rank_corr(rank_profit_ETFB(returns2Y3M,errormeasure2y3m.drop(\"Implied Yield\")).rank(method='average'))\n",
    "pearsonr_values_2Y6M,pearsonr_pvalues2Y6M=spearman_rank_corr(rank_profit_ETFB(returns2Y6M,errormeasure2y6m.drop(\"Implied Yield\")).rank(method='average'))\n",
    "pearsonr_values_2Y12M,pearsonr_pvalues2Y12M=spearman_rank_corr(rank_profit_ETFB(returns2Y12M,errormeasure2y12m.drop(\"Implied Yield\")).rank(method='average'))\n",
    "pearsonr_values_10Y3M,pearsonr_pvalues10Y3M=spearman_rank_corr(rank_profit_ETFB(returns10Y3M,errormeasure10y3m.drop(\"Implied Yield\")).rank(method='average'))\n",
    "pearsonr_values_10Y6M,pearsonr_pvalues10Y6M=spearman_rank_corr(rank_profit_ETFB(returns10Y6M,errormeasure10y6m.drop(\"Implied Yield\")).rank(method='average'))\n",
    "pearsonr_values_10Y12M,pearsonr_pvalues10Y12M=spearman_rank_corr(rank_profit_ETFB(returns10Y12M,errormeasure10y12m.drop(\"Implied Yield\")).rank(method='average'))"
   ]
  },
  {
   "cell_type": "code",
   "execution_count": null,
   "metadata": {},
   "outputs": [],
   "source": [
    "rank_profit_ETFB(returns2Y6M,errormeasure2y6m.drop(\"Implied Yield\")).rank(method='average')"
   ]
  },
  {
   "cell_type": "code",
   "execution_count": 25,
   "metadata": {},
   "outputs": [],
   "source": [
    "#create DataFrame to store the results\n",
    "row_names=[\"2Y3M\",\"2Y6M\",\"2Y12M\",\"10Y3M\",\"10Y6M\",\"10Y12M\"]\n",
    "#dataframe for values\n",
    "spearman_rank_ETFB=pd.DataFrame([pearsonr_values_2Y3M,pearsonr_values_2Y6M,pearsonr_values_2Y12M,pearsonr_values_10Y3M,pearsonr_values_10Y6M,pearsonr_values_10Y12M],index=row_names)\n",
    "#dataframe for p-values\n",
    "spearman_rank_ETFB_pvalues=pd.DataFrame([pearsonr_pvalues2Y3M,pearsonr_pvalues2Y6M,pearsonr_pvalues2Y12M,pearsonr_pvalues10Y3M,pearsonr_pvalues10Y6M,pearsonr_pvalues10Y12M],index=row_names)"
   ]
  },
  {
   "cell_type": "code",
   "execution_count": 26,
   "metadata": {},
   "outputs": [],
   "source": [
    "#save file\n",
    "relative_path = os.path.join('..', '..','..',\"Data\",'Results',\"StatisticalTests\",\"Spearman Rank\",\"spearman_rank_ETFB.xlsx\")\n",
    "spearman_rank_ETFB.to_excel(relative_path)\n",
    "relative_path = os.path.join('..', '..','..',\"Data\",'Results',\"StatisticalTests\",\"Spearman Rank\",\"spearman_rank_ETFB_pvalues.xlsx\")\n",
    "spearman_rank_ETFB_pvalues.to_excel(relative_path)"
   ]
  },
  {
   "cell_type": "code",
   "execution_count": null,
   "metadata": {},
   "outputs": [],
   "source": [
    "spearman_rank_ETFB"
   ]
  },
  {
   "cell_type": "code",
   "execution_count": null,
   "metadata": {},
   "outputs": [],
   "source": [
    "spearman_rank_ETFB_pvalues"
   ]
  },
  {
   "cell_type": "markdown",
   "metadata": {},
   "source": [
    "## Futures"
   ]
  },
  {
   "cell_type": "code",
   "execution_count": 29,
   "metadata": {},
   "outputs": [],
   "source": [
    "### Performance data\n",
    "\n",
    "#2y3m\n",
    "relative_path = os.path.join('..','..', '..',\"Data\",'Results',\"TradingStrategies\",\"StrategyB\",\"Futures\",\"returnsA2Y3M.csv\")\n",
    "returns2Y3M=pd.read_csv(relative_path,index_col=0).iloc[:,1:]\n",
    "#2y6m\n",
    "relative_path = os.path.join('..','..', '..',\"Data\",'Results',\"TradingStrategies\",\"StrategyB\",\"Futures\",\"returnsA2Y6M.csv\")\n",
    "returns2Y6M=pd.read_csv(relative_path,index_col=0).iloc[:,1:]\n",
    "#2y12m\n",
    "relative_path = os.path.join('..','..', '..',\"Data\",'Results',\"TradingStrategies\",\"StrategyB\",\"Futures\",\"returnsA2Y12M.csv\")\n",
    "returns2Y12M=pd.read_csv(relative_path,index_col=0).iloc[:,1:]\n",
    "#10y3m\n",
    "relative_path = os.path.join('..','..', '..',\"Data\",'Results',\"TradingStrategies\",\"StrategyB\",\"Futures\",\"returnsA10Y3M.csv\")\n",
    "returns10Y3M=pd.read_csv(relative_path,index_col=0).iloc[:,1:]\n",
    "#10y6m\n",
    "relative_path = os.path.join('..','..', '..',\"Data\",'Results',\"TradingStrategies\",\"StrategyB\",\"Futures\",\"returnsA10Y6M.csv\")\n",
    "returns10Y6M=pd.read_csv(relative_path,index_col=0).iloc[:,1:]\n",
    "#10y12m\n",
    "relative_path = os.path.join('..','..', '..',\"Data\",'Results',\"TradingStrategies\",\"StrategyB\",\"Futures\",\"returnsA10Y12M.csv\")\n",
    "returns10Y12M=pd.read_csv(relative_path,index_col=0).iloc[:,1:]"
   ]
  },
  {
   "cell_type": "code",
   "execution_count": 30,
   "metadata": {},
   "outputs": [],
   "source": [
    "#claculate spearman rank correlation for all the dataframes\n",
    "pearsonr_values_2Y3M,pearsonr_pvalues2Y3M=spearman_rank_corr(rank_profit_ETFB(returns2Y3M,errormeasure2y3m.drop(\"Implied Yield\")).rank(method='average'))\n",
    "pearsonr_values_2Y6M,pearsonr_pvalues2Y6M=spearman_rank_corr(rank_profit_ETFB(returns2Y6M,errormeasure2y6m.drop(\"Implied Yield\")).rank(method='average'))\n",
    "pearsonr_values_2Y12M,pearsonr_pvalues2Y12M=spearman_rank_corr(rank_profit_ETFB(returns2Y12M,errormeasure2y12m.drop(\"Implied Yield\")).rank(method='average'))\n",
    "pearsonr_values_10Y3M,pearsonr_pvalues10Y3M=spearman_rank_corr(rank_profit_ETFB(returns10Y3M,errormeasure10y3m.drop(\"Implied Yield\")).rank(method='average'))\n",
    "pearsonr_values_10Y6M,pearsonr_pvalues10Y6M=spearman_rank_corr(rank_profit_ETFB(returns10Y6M,errormeasure10y6m.drop(\"Implied Yield\")).rank(method='average'))\n",
    "pearsonr_values_10Y12M,pearsonr_pvalues10Y12M=spearman_rank_corr(rank_profit_ETFB(returns10Y12M,errormeasure10y12m.drop(\"Implied Yield\")).rank(method='average'))"
   ]
  },
  {
   "cell_type": "code",
   "execution_count": 31,
   "metadata": {},
   "outputs": [],
   "source": [
    "#create DataFrame to store the results\n",
    "row_names=[\"2Y3M\",\"2Y6M\",\"2Y12M\",\"10Y3M\",\"10Y6M\",\"10Y12M\"]\n",
    "#dataframe for values\n",
    "spearman_rank_FuturesB=pd.DataFrame([pearsonr_values_2Y3M,pearsonr_values_2Y6M,pearsonr_values_2Y12M,pearsonr_values_10Y3M,pearsonr_values_10Y6M,pearsonr_values_10Y12M],index=row_names)\n",
    "#dataframe for p-values\n",
    "spearman_rank_FuturesB_pvalues=pd.DataFrame([pearsonr_pvalues2Y3M,pearsonr_pvalues2Y6M,pearsonr_pvalues2Y12M,pearsonr_pvalues10Y3M,pearsonr_pvalues10Y6M,pearsonr_pvalues10Y12M],index=row_names)"
   ]
  },
  {
   "cell_type": "code",
   "execution_count": 32,
   "metadata": {},
   "outputs": [],
   "source": [
    "#save file\n",
    "relative_path = os.path.join('..', '..','..',\"Data\",'Results',\"StatisticalTests\",\"Spearman Rank\",\"spearman_rank_FuturesB.xlsx\")\n",
    "spearman_rank_FuturesB.to_excel(relative_path)\n",
    "relative_path = os.path.join('..', '..','..',\"Data\",'Results',\"StatisticalTests\",\"Spearman Rank\",\"spearman_rank_FuturesB_pvalues.xlsx\")\n",
    "spearman_rank_FuturesB_pvalues.to_excel(relative_path)"
   ]
  },
  {
   "cell_type": "code",
   "execution_count": null,
   "metadata": {},
   "outputs": [],
   "source": [
    "spearman_rank_FuturesB"
   ]
  },
  {
   "cell_type": "markdown",
   "metadata": {},
   "source": [
    "# Strategy C\n",
    "## ETF"
   ]
  },
  {
   "cell_type": "code",
   "execution_count": 34,
   "metadata": {},
   "outputs": [],
   "source": [
    "### Performance data\n",
    "\n",
    "#2y3m\n",
    "relative_path = os.path.join('..','..', '..',\"Data\",'Results',\"TradingStrategies\",\"StrategyC\",\"ETF\",\"returnsA2Y3M.csv\")\n",
    "returns2Y3M=pd.read_csv(relative_path,index_col=0)\n",
    "#2y6m\n",
    "relative_path = os.path.join('..','..', '..',\"Data\",'Results',\"TradingStrategies\",\"StrategyC\",\"ETF\",\"returnsA2Y6M.csv\")\n",
    "returns2Y6M=pd.read_csv(relative_path,index_col=0)\n",
    "#2y12m\n",
    "relative_path = os.path.join('..','..', '..',\"Data\",'Results',\"TradingStrategies\",\"StrategyC\",\"ETF\",\"returnsA2Y12M.csv\")\n",
    "returns2Y12M=pd.read_csv(relative_path,index_col=0)\n",
    "#10y3m\n",
    "relative_path = os.path.join('..','..', '..',\"Data\",'Results',\"TradingStrategies\",\"StrategyC\",\"ETF\",\"returnsA10Y3M.csv\")\n",
    "returns10Y3M=pd.read_csv(relative_path,index_col=0)\n",
    "#10y6m\n",
    "relative_path = os.path.join('..','..', '..',\"Data\",'Results',\"TradingStrategies\",\"StrategyC\",\"ETF\",\"returnsA10Y6M.csv\")\n",
    "returns10Y6M=pd.read_csv(relative_path,index_col=0)\n",
    "#10y12m\n",
    "relative_path = os.path.join('..','..', '..',\"Data\",'Results',\"TradingStrategies\",\"StrategyC\",\"ETF\",\"returnsA10Y12M.csv\")\n",
    "returns10Y12M=pd.read_csv(relative_path,index_col=0)"
   ]
  },
  {
   "cell_type": "code",
   "execution_count": 35,
   "metadata": {},
   "outputs": [],
   "source": [
    "#claculate spearman rank correlation for all the dataframes\n",
    "pearsonr_values_2Y3M,pearsonr_pvalues2Y3M=spearman_rank_corr(rank_profit_ETFB(returns2Y3M,errormeasure2y3m.drop(\"Implied Yield\")).rank(method='average'))\n",
    "pearsonr_values_2Y6M,pearsonr_pvalues2Y6M=spearman_rank_corr(rank_profit_ETFB(returns2Y6M,errormeasure2y6m.drop(\"Implied Yield\")).rank(method='average'))\n",
    "pearsonr_values_2Y12M,pearsonr_pvalues2Y12M=spearman_rank_corr(rank_profit_ETFB(returns2Y12M,errormeasure2y12m.drop(\"Implied Yield\")).rank(method='average'))\n",
    "pearsonr_values_10Y3M,pearsonr_pvalues10Y3M=spearman_rank_corr(rank_profit_ETFB(returns10Y3M,errormeasure10y3m.drop(\"Implied Yield\")).rank(method='average'))\n",
    "pearsonr_values_10Y6M,pearsonr_pvalues10Y6M=spearman_rank_corr(rank_profit_ETFB(returns10Y6M,errormeasure10y6m.drop(\"Implied Yield\")).rank(method='average'))\n",
    "pearsonr_values_10Y12M,pearsonr_pvalues10Y12M=spearman_rank_corr(rank_profit_ETFB(returns10Y12M,errormeasure10y12m.drop(\"Implied Yield\")).rank(method='average'))"
   ]
  },
  {
   "cell_type": "code",
   "execution_count": 36,
   "metadata": {},
   "outputs": [],
   "source": [
    "#create DataFrame to store the results\n",
    "row_names=[\"2Y3M\",\"2Y6M\",\"2Y12M\",\"10Y3M\",\"10Y6M\",\"10Y12M\"]\n",
    "#dataframe for values\n",
    "spearman_rank_ETFC=pd.DataFrame([pearsonr_values_2Y3M,pearsonr_values_2Y6M,pearsonr_values_2Y12M,pearsonr_values_10Y3M,pearsonr_values_10Y6M,pearsonr_values_10Y12M],index=row_names)\n",
    "#dataframe for p-values\n",
    "spearman_rank_ETFC_pvalues=pd.DataFrame([pearsonr_pvalues2Y3M,pearsonr_pvalues2Y6M,pearsonr_pvalues2Y12M,pearsonr_pvalues10Y3M,pearsonr_pvalues10Y6M,pearsonr_pvalues10Y12M],index=row_names)"
   ]
  },
  {
   "cell_type": "code",
   "execution_count": 37,
   "metadata": {},
   "outputs": [],
   "source": [
    "#save file\n",
    "relative_path = os.path.join('..', '..','..',\"Data\",'Results',\"StatisticalTests\",\"Spearman Rank\",\"spearman_rank_ETFC.xlsx\")\n",
    "spearman_rank_ETFC.to_excel(relative_path)\n",
    "relative_path = os.path.join('..', '..','..',\"Data\",'Results',\"StatisticalTests\",\"Spearman Rank\",\"spearman_rank_ETFC_pvalues.xlsx\")\n",
    "spearman_rank_ETFC_pvalues.to_excel(relative_path)"
   ]
  },
  {
   "cell_type": "markdown",
   "metadata": {},
   "source": [
    "## Futures"
   ]
  },
  {
   "cell_type": "code",
   "execution_count": 38,
   "metadata": {},
   "outputs": [],
   "source": [
    "### Performance data\n",
    "\n",
    "#2y3m\n",
    "relative_path = os.path.join('..','..', '..',\"Data\",'Results',\"TradingStrategies\",\"StrategyC\",\"Futures\",\"returnsA2Y3M.csv\")\n",
    "returns2Y3M=pd.read_csv(relative_path,index_col=0)\n",
    "#2y6m\n",
    "relative_path = os.path.join('..','..', '..',\"Data\",'Results',\"TradingStrategies\",\"StrategyC\",\"Futures\",\"returnsA2Y6M.csv\")\n",
    "returns2Y6M=pd.read_csv(relative_path,index_col=0)\n",
    "#2y12m\n",
    "relative_path = os.path.join('..','..', '..',\"Data\",'Results',\"TradingStrategies\",\"StrategyC\",\"Futures\",\"returnsA2Y12M.csv\")\n",
    "returns2Y12M=pd.read_csv(relative_path,index_col=0)\n",
    "#10y3m\n",
    "relative_path = os.path.join('..','..', '..',\"Data\",'Results',\"TradingStrategies\",\"StrategyC\",\"Futures\",\"returnsA10Y3M.csv\")\n",
    "returns10Y3M=pd.read_csv(relative_path,index_col=0)\n",
    "#10y6m\n",
    "relative_path = os.path.join('..','..', '..',\"Data\",'Results',\"TradingStrategies\",\"StrategyC\",\"Futures\",\"returnsA10Y6M.csv\")\n",
    "returns10Y6M=pd.read_csv(relative_path,index_col=0)\n",
    "#10y12m\n",
    "relative_path = os.path.join('..','..', '..',\"Data\",'Results',\"TradingStrategies\",\"StrategyC\",\"Futures\",\"returnsA10Y12M.csv\")\n",
    "returns10Y12M=pd.read_csv(relative_path,index_col=0)"
   ]
  },
  {
   "cell_type": "code",
   "execution_count": 39,
   "metadata": {},
   "outputs": [],
   "source": [
    "#claculate spearman rank correlation for all the dataframes\n",
    "pearsonr_values_2Y3M,pearsonr_pvalues2Y3M=spearman_rank_corr(rank_profit_ETFB(returns2Y3M,errormeasure2y3m.drop(\"Implied Yield\")).rank(method='average'))\n",
    "pearsonr_values_2Y6M,pearsonr_pvalues2Y6M=spearman_rank_corr(rank_profit_ETFB(returns2Y6M,errormeasure2y6m.drop(\"Implied Yield\")).rank(method='average'))\n",
    "pearsonr_values_2Y12M,pearsonr_pvalues2Y12M=spearman_rank_corr(rank_profit_ETFB(returns2Y12M,errormeasure2y12m.drop(\"Implied Yield\")).rank(method='average'))\n",
    "pearsonr_values_10Y3M,pearsonr_pvalues10Y3M=spearman_rank_corr(rank_profit_ETFB(returns10Y3M,errormeasure10y3m.drop(\"Implied Yield\")).rank(method='average'))\n",
    "pearsonr_values_10Y6M,pearsonr_pvalues10Y6M=spearman_rank_corr(rank_profit_ETFB(returns10Y6M,errormeasure10y6m.drop(\"Implied Yield\")).rank(method='average'))\n",
    "pearsonr_values_10Y12M,pearsonr_pvalues10Y12M=spearman_rank_corr(rank_profit_ETFB(returns10Y12M,errormeasure10y12m.drop(\"Implied Yield\")).rank(method='average'))"
   ]
  },
  {
   "cell_type": "code",
   "execution_count": 40,
   "metadata": {},
   "outputs": [],
   "source": [
    "#create DataFrame to store the results\n",
    "row_names=[\"2Y3M\",\"2Y6M\",\"2Y12M\",\"10Y3M\",\"10Y6M\",\"10Y12M\"]\n",
    "#dataframe for values\n",
    "spearman_rank_FuturesC=pd.DataFrame([pearsonr_values_2Y3M,pearsonr_values_2Y6M,pearsonr_values_2Y12M,pearsonr_values_10Y3M,pearsonr_values_10Y6M,pearsonr_values_10Y12M],index=row_names)\n",
    "#dataframe for p-values\n",
    "spearman_rank_FuturesC_pvalues=pd.DataFrame([pearsonr_pvalues2Y3M,pearsonr_pvalues2Y6M,pearsonr_pvalues2Y12M,pearsonr_pvalues10Y3M,pearsonr_pvalues10Y6M,pearsonr_pvalues10Y12M],index=row_names)"
   ]
  },
  {
   "cell_type": "code",
   "execution_count": 41,
   "metadata": {},
   "outputs": [],
   "source": [
    "#save file\n",
    "relative_path = os.path.join('..', '..','..',\"Data\",'Results',\"StatisticalTests\",\"Spearman Rank\",\"spearman_rank_FuturesC.xlsx\")\n",
    "spearman_rank_FuturesC.to_excel(relative_path)\n",
    "relative_path = os.path.join('..', '..','..',\"Data\",'Results',\"StatisticalTests\",\"Spearman Rank\",\"spearman_rank_FuturesC_pvalues.xlsx\")\n",
    "spearman_rank_FuturesC_pvalues.to_excel(relative_path)"
   ]
  }
 ],
 "metadata": {
  "kernelspec": {
   "display_name": "base",
   "language": "python",
   "name": "python3"
  },
  "language_info": {
   "codemirror_mode": {
    "name": "ipython",
    "version": 3
   },
   "file_extension": ".py",
   "mimetype": "text/x-python",
   "name": "python",
   "nbconvert_exporter": "python",
   "pygments_lexer": "ipython3",
   "version": "3.9.12"
  }
 },
 "nbformat": 4,
 "nbformat_minor": 2
}
