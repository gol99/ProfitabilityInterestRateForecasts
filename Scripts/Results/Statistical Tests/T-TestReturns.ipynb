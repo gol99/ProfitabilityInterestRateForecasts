{
 "cells": [
  {
   "cell_type": "markdown",
   "metadata": {},
   "source": [
    "# Two-Sided one sample T-Test\n",
    "The goal here is to check wheter the quarterly returns are signficantly different from 0. This will be done runnig a two-sided t-test."
   ]
  },
  {
   "cell_type": "code",
   "execution_count": 1,
   "metadata": {},
   "outputs": [],
   "source": [
    "import pandas as pd\n",
    "import os\n",
    "from scipy import stats\n",
    "import math\n",
    "import numpy as np"
   ]
  },
  {
   "cell_type": "markdown",
   "metadata": {},
   "source": [
    "## Strategy A\n",
    "### ETF\n"
   ]
  },
  {
   "cell_type": "code",
   "execution_count": 2,
   "metadata": {},
   "outputs": [],
   "source": [
    "#returnsA2Y3M\n",
    "relative_path = os.path.join('..', '..',\"..\",\"Data\",\"Results\",\"TradingStrategies\",\"StrategyA\",\"ETF\",\"returnsA2Y3M.csv\")\n",
    "returnsA2Y3M_A=pd.read_csv(relative_path,index_col=0)\n",
    "\n",
    "#returnsA2Y6M\n",
    "relative_path = os.path.join('..', '..','..',\"Data\",\"Results\",\"TradingStrategies\",\"StrategyA\",\"ETF\",\"returnsA2Y6M.csv\")\n",
    "returnsA2Y6M_A=pd.read_csv(relative_path,index_col=0)\n",
    "\n",
    "#returnsA2Y12M\n",
    "relative_path = os.path.join('..', '..','..',\"Data\",\"Results\",\"TradingStrategies\",\"StrategyA\",\"ETF\",\"returnsA2Y12M.csv\")\n",
    "returnsA2Y12M_A=pd.read_csv(relative_path,index_col=0)\n",
    "\n",
    "#returnsA10Y3M\n",
    "relative_path = os.path.join('..', '..','..',\"Data\",\"Results\",\"TradingStrategies\",\"StrategyA\",\"ETF\",\"returnsA10Y3M.csv\")\n",
    "returnsA10Y3M_A=pd.read_csv(relative_path,index_col=0)\n",
    "\n",
    "#returnsA10Y6M\n",
    "relative_path = os.path.join('..', '..','..',\"Data\",\"Results\",\"TradingStrategies\",\"StrategyA\",\"ETF\",\"returnsA10Y6M.csv\")\n",
    "returnsA10Y6M_A=pd.read_csv(relative_path,index_col=0)\n",
    "\n",
    "#returnsA10Y12M\n",
    "relative_path = os.path.join('..', '..','..',\"Data\",\"Results\",\"TradingStrategies\",\"StrategyA\",\"ETF\",\"returnsA10Y12M.csv\")\n",
    "returnsA10Y12M_A=pd.read_csv(relative_path,index_col=0)\n",
    "\n",
    "#Risk-free Returns\n",
    "relative_path = os.path.join('..', '..',\"..\",\"Data\",\"Consolidated\",\"TreasuryYield\",\"TreasuryBill.csv\")\n",
    "r_f=pd.read_csv(relative_path,index_col=0)"
   ]
  },
  {
   "cell_type": "code",
   "execution_count": null,
   "metadata": {},
   "outputs": [],
   "source": [
    "returnsA2Y3M_A"
   ]
  },
  {
   "cell_type": "code",
   "execution_count": 4,
   "metadata": {},
   "outputs": [],
   "source": [
    "def excess_return_calc(df,forecast_horizon,r_f):\n",
    "    df.index=pd.to_datetime(df.index)\n",
    "    r_f.index=pd.to_datetime(r_f.index)\n",
    "    qrf=((((r_f.loc[df.index,forecast_horizon]/100)+1)**0.25)-1)\n",
    "    simple_r=np.exp(df)-1\n",
    "    excess_return_s=simple_r.sub(qrf,axis=0)\n",
    "    excess_return_log=np.log(1+excess_return_s)\n",
    "    return (excess_return_log)"
   ]
  },
  {
   "cell_type": "code",
   "execution_count": 5,
   "metadata": {},
   "outputs": [],
   "source": [
    "def t_test_row(df,forecast_horizon,r_f):\n",
    "    row={}\n",
    "    n=len(df.columns)\n",
    "    excess_r=excess_return_calc(df,forecast_horizon,r_f)\n",
    "    for column in df.columns[n//2:n]:\n",
    "        new_index=column[0:-9]\n",
    "        row[new_index]=stats.ttest_1samp(excess_r[column],0,nan_policy='omit')[1]\n",
    "    return row"
   ]
  },
  {
   "cell_type": "code",
   "execution_count": 6,
   "metadata": {},
   "outputs": [],
   "source": [
    "def t_test_df(df3M,df6M,df12M):\n",
    "    df=pd.DataFrame(index=t_test_row(df3M,\"3M\",r_f).keys())\n",
    "    df[\"3M\"]=t_test_row(df3M,\"3M\",r_f).values()\n",
    "    df[\"6M\"]=t_test_row(df6M,\"6M\",r_f).values()\n",
    "    df[\"12M\"]=t_test_row(df12M,\"1Y\",r_f).values()\n",
    "    return df\n"
   ]
  },
  {
   "cell_type": "code",
   "execution_count": null,
   "metadata": {},
   "outputs": [],
   "source": [
    "ttest_ETF_A2=t_test_df(returnsA2Y3M_A,returnsA2Y6M_A,returnsA2Y12M_A)\n",
    "ttest_ETF_A10=t_test_df(returnsA10Y3M_A,returnsA10Y6M_A,returnsA10Y12M_A)"
   ]
  },
  {
   "cell_type": "code",
   "execution_count": null,
   "metadata": {},
   "outputs": [],
   "source": [
    "ttest_ETF_A2"
   ]
  },
  {
   "cell_type": "markdown",
   "metadata": {},
   "source": [
    "### Futures"
   ]
  },
  {
   "cell_type": "code",
   "execution_count": 9,
   "metadata": {},
   "outputs": [],
   "source": [
    "#returnsA2Y3M\n",
    "relative_path = os.path.join('..', '..','..',\"Data\",\"Results\",\"TradingStrategies\",\"StrategyA\",\"Futures\",\"returnsA2Y3M.csv\")\n",
    "FreturnsA2Y3M_A=pd.read_csv(relative_path,index_col=0)\n",
    "\n",
    "#returnsA2Y6M\n",
    "relative_path = os.path.join('..', '..','..',\"Data\",\"Results\",\"TradingStrategies\",\"StrategyA\",\"Futures\",\"returnsA2Y6M.csv\")\n",
    "FreturnsA2Y6M_A=pd.read_csv(relative_path,index_col=0)\n",
    "\n",
    "#returnsA2Y12M\n",
    "relative_path = os.path.join('..', '..','..',\"Data\",\"Results\",\"TradingStrategies\",\"StrategyA\",\"Futures\",\"returnsA2Y12M.csv\")\n",
    "FreturnsA2Y12M_A=pd.read_csv(relative_path,index_col=0)\n",
    "\n",
    "#returnsA10Y3M\n",
    "relative_path = os.path.join('..', '..','..',\"Data\",\"Results\",\"TradingStrategies\",\"StrategyA\",\"Futures\",\"returnsA10Y3M.csv\")\n",
    "FreturnsA10Y3M_A=pd.read_csv(relative_path,index_col=0)\n",
    "\n",
    "#returnsA10Y6M\n",
    "relative_path = os.path.join('..', '..','..',\"Data\",\"Results\",\"TradingStrategies\",\"StrategyA\",\"Futures\",\"returnsA10Y6M.csv\")\n",
    "FreturnsA10Y6M_A=pd.read_csv(relative_path,index_col=0)\n",
    "\n",
    "#returnsA10Y12M\n",
    "relative_path = os.path.join('..', '..','..',\"Data\",\"Results\",\"TradingStrategies\",\"StrategyA\",\"Futures\",\"returnsA10Y12M.csv\")\n",
    "FreturnsA10Y12M_A=pd.read_csv(relative_path,index_col=0)"
   ]
  },
  {
   "cell_type": "code",
   "execution_count": null,
   "metadata": {},
   "outputs": [],
   "source": [
    "ttest_Futures_A2=t_test_df(FreturnsA2Y3M_A,FreturnsA2Y6M_A,FreturnsA2Y12M_A)\n",
    "ttest_Futures_A10=t_test_df(FreturnsA10Y3M_A,FreturnsA10Y6M_A,FreturnsA10Y12M_A)"
   ]
  },
  {
   "cell_type": "markdown",
   "metadata": {},
   "source": [
    "## Strategy B\n",
    "### ETF"
   ]
  },
  {
   "cell_type": "code",
   "execution_count": 11,
   "metadata": {},
   "outputs": [],
   "source": [
    "#returnsA2Y3M\n",
    "relative_path = os.path.join('..', '..','..',\"Data\",\"Results\",\"TradingStrategies\",\"StrategyB\",\"ETF\",\"returnsA2Y3M.csv\")\n",
    "returnsA2Y3M_B=pd.read_csv(relative_path,index_col=0)\n",
    "\n",
    "#returnsA2Y6M\n",
    "relative_path = os.path.join('..', '..','..',\"Data\",\"Results\",\"TradingStrategies\",\"StrategyB\",\"ETF\",\"returnsA2Y6M.csv\")\n",
    "returnsA2Y6M_B=pd.read_csv(relative_path,index_col=0)\n",
    "\n",
    "#returnsA2Y12M\n",
    "relative_path = os.path.join('..', '..','..',\"Data\",\"Results\",\"TradingStrategies\",\"StrategyB\",\"ETF\",\"returnsA2Y12M.csv\")\n",
    "returnsA2Y12M_B=pd.read_csv(relative_path,index_col=0)\n",
    "\n",
    "#returnsA10Y3M\n",
    "relative_path = os.path.join('..', '..','..',\"Data\",\"Results\",\"TradingStrategies\",\"StrategyB\",\"ETF\",\"returnsA10Y3M.csv\")\n",
    "returnsA10Y3M_B=pd.read_csv(relative_path,index_col=0)\n",
    "\n",
    "#returnsA10Y6M\n",
    "relative_path = os.path.join('..', '..','..',\"Data\",\"Results\",\"TradingStrategies\",\"StrategyB\",\"ETF\",\"returnsA10Y6M.csv\")\n",
    "returnsA10Y6M_B=pd.read_csv(relative_path,index_col=0)\n",
    "\n",
    "#returnsA10Y12M\n",
    "relative_path = os.path.join('..', '..','..',\"Data\",\"Results\",\"TradingStrategies\",\"StrategyB\",\"ETF\",\"returnsA10Y12M.csv\")\n",
    "returnsA10Y12M_B=pd.read_csv(relative_path,index_col=0)"
   ]
  },
  {
   "cell_type": "code",
   "execution_count": null,
   "metadata": {},
   "outputs": [],
   "source": [
    "ttest_ETF_B2=t_test_df(returnsA2Y3M_B,returnsA2Y6M_B,returnsA2Y12M_B)\n",
    "ttest_ETF_B10=t_test_df(returnsA10Y3M_B,returnsA10Y6M_B,returnsA10Y12M_B)"
   ]
  },
  {
   "cell_type": "markdown",
   "metadata": {},
   "source": [
    "### Futures"
   ]
  },
  {
   "cell_type": "code",
   "execution_count": 13,
   "metadata": {},
   "outputs": [],
   "source": [
    "#returnsA2Y3M\n",
    "relative_path = os.path.join('..', '..','..',\"Data\",\"Results\",\"TradingStrategies\",\"StrategyB\",\"Futures\",\"returnsA2Y3M.csv\")\n",
    "FreturnsA2Y3M_B=pd.read_csv(relative_path,index_col=0)\n",
    "\n",
    "#returnsA2Y6M\n",
    "relative_path = os.path.join('..', '..','..',\"Data\",\"Results\",\"TradingStrategies\",\"StrategyB\",\"Futures\",\"returnsA2Y6M.csv\")\n",
    "FreturnsA2Y6M_B=pd.read_csv(relative_path,index_col=0)\n",
    "\n",
    "#returnsA2Y12M\n",
    "relative_path = os.path.join('..', '..','..',\"Data\",\"Results\",\"TradingStrategies\",\"StrategyB\",\"Futures\",\"returnsA2Y12M.csv\")\n",
    "FreturnsA2Y12M_B=pd.read_csv(relative_path,index_col=0)\n",
    "\n",
    "#returnsA10Y3M\n",
    "relative_path = os.path.join('..', '..','..',\"Data\",\"Results\",\"TradingStrategies\",\"StrategyB\",\"Futures\",\"returnsA10Y3M.csv\")\n",
    "FreturnsA10Y3M_B=pd.read_csv(relative_path,index_col=0)\n",
    "\n",
    "#returnsA10Y6M\n",
    "relative_path = os.path.join('..', '..','..',\"Data\",\"Results\",\"TradingStrategies\",\"StrategyB\",\"Futures\",\"returnsA10Y6M.csv\")\n",
    "FreturnsA10Y6M_B=pd.read_csv(relative_path,index_col=0)\n",
    "\n",
    "#returnsA10Y12M\n",
    "relative_path = os.path.join('..', '..','..',\"Data\",\"Results\",\"TradingStrategies\",\"StrategyB\",\"Futures\",\"returnsA10Y12M.csv\")\n",
    "FreturnsA10Y12M_B=pd.read_csv(relative_path,index_col=0)"
   ]
  },
  {
   "cell_type": "code",
   "execution_count": null,
   "metadata": {},
   "outputs": [],
   "source": [
    "ttest_Futures_B2=t_test_df(FreturnsA2Y3M_B,FreturnsA2Y6M_B,FreturnsA2Y12M_B)\n",
    "ttest_Futures_B10=t_test_df(FreturnsA10Y3M_B,FreturnsA10Y6M_B,FreturnsA10Y12M_B)"
   ]
  },
  {
   "cell_type": "markdown",
   "metadata": {},
   "source": [
    "## Strategy C\n",
    "### ETF"
   ]
  },
  {
   "cell_type": "code",
   "execution_count": 15,
   "metadata": {},
   "outputs": [],
   "source": [
    "#returnsA2Y3M\n",
    "relative_path = os.path.join('..', '..','..',\"Data\",\"Results\",\"TradingStrategies\",\"StrategyC\",\"ETF\",\"returnsA2Y3M.csv\")\n",
    "returnsA2Y3M_C=pd.read_csv(relative_path,index_col=0)\n",
    "\n",
    "#returnsA2Y6M\n",
    "relative_path = os.path.join('..', '..','..',\"Data\",\"Results\",\"TradingStrategies\",\"StrategyC\",\"ETF\",\"returnsA2Y6M.csv\")\n",
    "returnsA2Y6M_C=pd.read_csv(relative_path,index_col=0)\n",
    "\n",
    "#returnsA2Y12M\n",
    "relative_path = os.path.join('..', '..','..',\"Data\",\"Results\",\"TradingStrategies\",\"StrategyC\",\"ETF\",\"returnsA2Y12M.csv\")\n",
    "returnsA2Y12M_C=pd.read_csv(relative_path,index_col=0)\n",
    "\n",
    "#returnsA10Y3M\n",
    "relative_path = os.path.join('..', '..','..',\"Data\",\"Results\",\"TradingStrategies\",\"StrategyC\",\"ETF\",\"returnsA10Y3M.csv\")\n",
    "returnsA10Y3M_C=pd.read_csv(relative_path,index_col=0)\n",
    "\n",
    "#returnsA10Y6M\n",
    "relative_path = os.path.join('..', '..','..',\"Data\",\"Results\",\"TradingStrategies\",\"StrategyC\",\"ETF\",\"returnsA10Y6M.csv\")\n",
    "returnsA10Y6M_C=pd.read_csv(relative_path,index_col=0)\n",
    "\n",
    "#returnsA10Y12M\n",
    "relative_path = os.path.join('..', '..','..',\"Data\",\"Results\",\"TradingStrategies\",\"StrategyC\",\"ETF\",\"returnsA10Y12M.csv\")\n",
    "returnsA10Y12M_C=pd.read_csv(relative_path,index_col=0)"
   ]
  },
  {
   "cell_type": "code",
   "execution_count": null,
   "metadata": {},
   "outputs": [],
   "source": [
    "ttest_ETF_C2=t_test_df(returnsA2Y3M_C,returnsA2Y6M_C,returnsA2Y12M_C)\n",
    "ttest_ETF_C10=t_test_df(returnsA10Y3M_C,returnsA10Y6M_C,returnsA10Y12M_C)"
   ]
  },
  {
   "cell_type": "markdown",
   "metadata": {},
   "source": [
    "### Futures"
   ]
  },
  {
   "cell_type": "code",
   "execution_count": 17,
   "metadata": {},
   "outputs": [],
   "source": [
    "#returnsA2Y3M\n",
    "relative_path = os.path.join('..', '..','..',\"Data\",\"Results\",\"TradingStrategies\",\"StrategyC\",\"Futures\",\"returnsA2Y3M.csv\")\n",
    "FreturnsA2Y3M_C=pd.read_csv(relative_path,index_col=0)\n",
    "\n",
    "#returnsA2Y6M\n",
    "relative_path = os.path.join('..', '..','..',\"Data\",\"Results\",\"TradingStrategies\",\"StrategyC\",\"Futures\",\"returnsA2Y6M.csv\")\n",
    "FreturnsA2Y6M_C=pd.read_csv(relative_path,index_col=0)\n",
    "\n",
    "#returnsA2Y12M\n",
    "relative_path = os.path.join('..', '..','..',\"Data\",\"Results\",\"TradingStrategies\",\"StrategyC\",\"Futures\",\"returnsA2Y12M.csv\")\n",
    "FreturnsA2Y12M_C=pd.read_csv(relative_path,index_col=0)\n",
    "\n",
    "#returnsA10Y3M\n",
    "relative_path = os.path.join('..', '..','..',\"Data\",\"Results\",\"TradingStrategies\",\"StrategyC\",\"Futures\",\"returnsA10Y3M.csv\")\n",
    "FreturnsA10Y3M_C=pd.read_csv(relative_path,index_col=0)\n",
    "\n",
    "#returnsA10Y6M\n",
    "relative_path = os.path.join('..', '..','..',\"Data\",\"Results\",\"TradingStrategies\",\"StrategyC\",\"Futures\",\"returnsA10Y6M.csv\")\n",
    "FreturnsA10Y6M_C=pd.read_csv(relative_path,index_col=0)\n",
    "\n",
    "#returnsA10Y12M\n",
    "relative_path = os.path.join('..', '..','..',\"Data\",\"Results\",\"TradingStrategies\",\"StrategyC\",\"Futures\",\"returnsA10Y12M.csv\")\n",
    "FreturnsA10Y12M_C=pd.read_csv(relative_path,index_col=0)"
   ]
  },
  {
   "cell_type": "code",
   "execution_count": null,
   "metadata": {},
   "outputs": [],
   "source": [
    "ttest_Futures_C2=t_test_df(FreturnsA2Y3M_C,FreturnsA2Y6M_C,FreturnsA2Y12M_C)\n",
    "ttest_Futures_C10=t_test_df(FreturnsA10Y3M_C,FreturnsA10Y6M_C,FreturnsA10Y12M_C)"
   ]
  },
  {
   "cell_type": "code",
   "execution_count": 19,
   "metadata": {},
   "outputs": [],
   "source": [
    "def t_test_adder(df,forecast_horizon,yields_,instrument,dataframe_dic,strategy):\n",
    "    df=df.T\n",
    "    n_obs=df.iloc[0,-1]\n",
    "    df=df.iloc[:,:-1]\n",
    "    #split data frame in two to later add p-values of t-test\n",
    "    first_part=df.iloc[:1]\n",
    "    second_part=df.iloc[1:]\n",
    "    #add empty row to index for t-values\n",
    "    temp_index=list(df.index)\n",
    "    temp_index.insert(1,\"\")\n",
    "    #add new row wit p-values of t-test\n",
    "    dataframe_name=\"ttest_\"+instrument+\"_\"+strategy+str(yields_)\n",
    "    new_row=pd.DataFrame(dataframe_dic[dataframe_name][forecast_horizon]).T\n",
    "    new_row.columns=df.columns\n",
    "    #addd all parts of the dataframe together\n",
    "    f_new = pd.concat([first_part, new_row, second_part], ignore_index=True)\n",
    "    #set index\n",
    "    f_new.index=temp_index\n",
    "    #add row with number of observations\n",
    "    f_new.loc(axis=0)[\"Number of Observations\"]=n_obs\n",
    "    return f_new\n",
    "    "
   ]
  },
  {
   "cell_type": "code",
   "execution_count": 20,
   "metadata": {},
   "outputs": [],
   "source": [
    "def add_stars(value):\n",
    "    if value < 0.01:\n",
    "        return \"***\"\n",
    "    elif value < 0.05:\n",
    "        return \"**\"\n",
    "    elif value < 0.1:\n",
    "        return \"*\"\n",
    "    return \"\"\n"
   ]
  },
  {
   "cell_type": "code",
   "execution_count": 21,
   "metadata": {},
   "outputs": [],
   "source": [
    "#function to export formatted data to excel\n",
    "\n",
    "def file_saver(df,relative_path):\n",
    "    # Function to add stars based on p-value\n",
    "\n",
    "# Sample DataFrame creation for demonstration (replace with your actual DataFrame)\n",
    "# df = pd.DataFrame({'YourColumn': [value]}, index=['', 'Log-Returns (ann.)'])\n",
    "\n",
    "    # Check if 'p-value' (represented as an empty string '') and 'Log-Returns (ann.)' are in the index (row names)\n",
    "    if '' in df.index and 'Log-ER (ann.)' in df.index:\n",
    "        # Retrieve the p-value from the row with an empty string as its index\n",
    "        for label, content in df.iteritems():\n",
    "            p_value = df.loc['', label]  # Assuming p-value is a scalar\n",
    "            p_value=float(f\"{p_value:.3f}\")\n",
    "            # Add stars to 'Log-Returns (ann.)' based on p-value\n",
    "            log_r=f\"{df.loc['Log-ER (ann.)', label]*100:.2f}\"\n",
    "            df.loc['Log-ER (ann.)', label] = f\"{log_r}% {add_stars(p_value)}\"\n",
    "            \n",
    "            # Modify 'p-value' (empty string row) to include brackets around its value\n",
    "            df.loc['', label] = f\"({p_value})\"\n",
    "    with pd.ExcelWriter(relative_path, engine='xlsxwriter') as writer:\n",
    "        df.to_excel(writer, sheet_name='Sheet1', index=True)\n",
    "        \n",
    "        workbook = writer.book\n",
    "        worksheet = writer.sheets['Sheet1']\n",
    "        \n",
    "        # Apply formatting\n",
    "        format_float = workbook.add_format({'num_format': '0.00'})\n",
    "        format_percent = workbook.add_format({'num_format': '0.00%'})\n",
    "        format_three_decimals = workbook.add_format({'num_format': '0.000'})\n",
    "        format_int = workbook.add_format({'num_format': '0'})\n",
    "        \n",
    "        # Apply the formats to the appropriate rows\n",
    "        # Note: Adjust row indices based on your DataFrame's layout\n",
    "        worksheet.set_row(1, None, format_percent)  # \"Log-Returns (ann.)\"\n",
    "        worksheet.set_row(2, None, format_float)  # \"p-value\"\n",
    "        worksheet.set_row(3, None, format_percent)  # \"Volatility (ann.)\"\n",
    "        worksheet.set_row(4, None, format_three_decimals)  # \"Skewness\"\n",
    "        worksheet.set_row(5, None, format_three_decimals)  # \"Kurtosis\"\n",
    "        worksheet.set_row(6, None, format_percent)  # \"VaR (95%)\"\n",
    "        worksheet.set_row(7, None, format_percent)  # \"Maximum Drawdown\"\n",
    "        worksheet.set_row(8, None, format_three_decimals)  # \"Sharpe Ratio\"\n",
    "        worksheet.set_row(9, None, format_int)  # \"Number of Observations\""
   ]
  },
  {
   "cell_type": "code",
   "execution_count": 22,
   "metadata": {},
   "outputs": [],
   "source": [
    "Instrument=[\"ETF\",\"Futures\"]\n",
    "strategies=[\"A\",\"B\",\"C\"]\n",
    "Yields=[2,10]\n",
    "dataframe_dic={}\n",
    "\n",
    "for instrument in Instrument:\n",
    "    for yield_ in Yields:\n",
    "        for strategy in strategies:\n",
    "            dataframe_name=\"ttest_\"+instrument+\"_\"+strategy+str(yield_)\n",
    "            exec(f\"dataframe_dic['{dataframe_name}']={dataframe_name}\")"
   ]
  },
  {
   "cell_type": "code",
   "execution_count": 23,
   "metadata": {},
   "outputs": [],
   "source": [
    "strategies=[\"A\",\"B\",\"C\"]\n",
    "forecast_horizons=[\"3M\",\"6M\",\"12M\"]\n",
    "Instrument=[\"ETF\",\"Futures\"]\n",
    "Yields=[2,10]\n",
    "\n",
    "for strategy in strategies:\n",
    "    for forecast_horizon in forecast_horizons:\n",
    "        for instrument in Instrument:\n",
    "            for yield_ in Yields:\n",
    "                relative_path = os.path.join('..', '..','..',\"Data\",\"Results\",\"RiskReturn\",\"Strategy\"+strategy,instrument,\"RiskReturnA\"+str(yield_)+\"Y\"+forecast_horizon+\".xlsx\")\n",
    "                df=pd.read_excel(relative_path,index_col=0)\n",
    "                return_df=t_test_adder(df,forecast_horizon,yield_,instrument,dataframe_dic,strategy)\n",
    "                relative_path = os.path.join('..', '..','..',\"Data\",\"Results\",\"RiskReturn\",\"Strategy\"+strategy,instrument,\"RiskReturnA\"+str(yield_)+\"Y\"+forecast_horizon+\".xlsx\")\n",
    "                file_saver(return_df,relative_path)\n",
    "                #return_df.to_excel(relative_path)"
   ]
  },
  {
   "cell_type": "code",
   "execution_count": 24,
   "metadata": {},
   "outputs": [],
   "source": [
    "def filesaver(df,strategy,docname):\n",
    "    #Save file using relative path\n",
    "    relative_path = os.path.join('..', '..','..',\"Data\",\"Results\",\"StatisticalTests\",\"T-Test\",strategy,docname)\n",
    "    df.to_csv(relative_path)"
   ]
  },
  {
   "cell_type": "code",
   "execution_count": 25,
   "metadata": {},
   "outputs": [],
   "source": [
    "filesaver(ttest_ETF_A2,\"StrategyA\",\"ttest_ETF_A2.csv\")\n",
    "filesaver(ttest_ETF_A10,\"StrategyA\",\"ttest_ETF_A10.csv\")\n",
    "filesaver(ttest_ETF_B2,\"StrategyB\",\"ttest_ETF_B2.csv\")\n",
    "filesaver(ttest_ETF_B10,\"StrategyB\",\"ttest_ETF_B10.csv\")\n",
    "filesaver(ttest_ETF_C2,\"StrategyC\",\"ttest_ETF_C2.csv\")\n",
    "filesaver(ttest_ETF_C10,\"StrategyC\",\"ttest_ETF_C10.csv\")\n",
    "filesaver(ttest_Futures_A2,\"StrategyA\",\"ttest_Futures_A2.csv\") \n",
    "filesaver(ttest_Futures_A10,\"StrategyA\",\"ttest_Futures_A10.csv\")\n",
    "filesaver(ttest_Futures_B2,\"StrategyB\",\"ttest_Futures_B2.csv\")\n",
    "filesaver(ttest_Futures_B10,\"StrategyB\",\"ttest_Futures_B10.csv\")\n",
    "filesaver(ttest_Futures_C2,\"StrategyC\",\"ttest_Futures_C2.csv\")\n",
    "filesaver(ttest_Futures_C10,\"StrategyC\",\"ttest_Futures_C10.csv\")"
   ]
  },
  {
   "cell_type": "code",
   "execution_count": 26,
   "metadata": {},
   "outputs": [],
   "source": [
    "#get variable name\n",
    "import inspect\n",
    "\n",
    "def get_var_name(var):\n",
    "    frame = inspect.currentframe().f_back\n",
    "    variables = frame.f_globals.copy()\n",
    "    variables.update(frame.f_locals)\n",
    "    for name, value in variables.items():\n",
    "        if value is var:\n",
    "            return name\n",
    "    return None"
   ]
  },
  {
   "cell_type": "code",
   "execution_count": 27,
   "metadata": {},
   "outputs": [],
   "source": [
    "def significance(df,critical_value):\n",
    "    for index, row in df.iterrows():\n",
    "        for label, value in row.items():\n",
    "            value=df.loc[index,label]\n",
    "            if value<critical_value:\n",
    "                print(get_var_name(df),index,label,value)"
   ]
  },
  {
   "cell_type": "code",
   "execution_count": 28,
   "metadata": {},
   "outputs": [],
   "source": [
    "dfs=[ttest_ETF_A2,ttest_ETF_A10,ttest_ETF_B2,ttest_ETF_B10,ttest_ETF_C2,ttest_ETF_C10,ttest_Futures_A2,ttest_Futures_A10,ttest_Futures_B2,ttest_Futures_B10,ttest_Futures_C2,ttest_Futures_C10]"
   ]
  },
  {
   "cell_type": "code",
   "execution_count": null,
   "metadata": {},
   "outputs": [],
   "source": [
    "total=0\n",
    "for df in dfs:\n",
    "    total+=math.prod(df.shape)\n",
    "total"
   ]
  },
  {
   "cell_type": "code",
   "execution_count": null,
   "metadata": {},
   "outputs": [],
   "source": [
    "for df in dfs:\n",
    "    significance(df,0.05)"
   ]
  }
 ],
 "metadata": {
  "kernelspec": {
   "display_name": "base",
   "language": "python",
   "name": "python3"
  },
  "language_info": {
   "codemirror_mode": {
    "name": "ipython",
    "version": 3
   },
   "file_extension": ".py",
   "mimetype": "text/x-python",
   "name": "python",
   "nbconvert_exporter": "python",
   "pygments_lexer": "ipython3",
   "version": "3.9.12"
  }
 },
 "nbformat": 4,
 "nbformat_minor": 2
}
