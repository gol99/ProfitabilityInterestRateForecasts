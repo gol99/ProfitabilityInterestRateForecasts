{
 "cells": [
  {
   "cell_type": "markdown",
   "id": "ed0bc933",
   "metadata": {},
   "source": [
    "Here, I will calculate the following error measures of the Forecasts:\n",
    "- MAE\n",
    "- RMSE\n",
    "- Theil's U coefficient\n",
    "- Directional Accuracy"
   ]
  },
  {
   "cell_type": "code",
   "execution_count": 1,
   "id": "af6f7de7",
   "metadata": {},
   "outputs": [],
   "source": [
    "import pandas as pd\n",
    "import os\n",
    "import numpy as np\n",
    "from sklearn.metrics import mean_squared_error"
   ]
  },
  {
   "cell_type": "code",
   "execution_count": 2,
   "id": "f4b54407",
   "metadata": {},
   "outputs": [],
   "source": [
    "### Import all Forecast Dataframe: Six Expert Forecasts (Two Instruments, Three Forecast Horizons),\n",
    "### Six Expert Forecasts (Two Instruments, Three Forecast Horizons), so 12 in total\n",
    "\n",
    "### Two Year Treasury Yield\n",
    "\n",
    "#Two Year Treasury Yield - Three Month Forecasts\n",
    "relative_path = os.path.join('..', '..',\"Data\",'Consolidated',\"Forecasts\",\"AlternativeForecasts\", \"TUY3.csv\")\n",
    "TUY3=pd.read_csv(relative_path,index_col=0)\n",
    "#ExpertForecasts Two Year Treasury Yield - Three Month Forecasts\n",
    "relative_path = os.path.join('..', '..',\"Data\",'Consolidated',\"Forecasts\",\"ExpertForecasts\", \"TMTU.csv\")\n",
    "TMTU=pd.read_csv(relative_path,index_col=0)\n",
    "#Individual Expert Forecasts Two Year Treasury Yield - Three Month Forecasts\n",
    "relative_path = os.path.join('..', '..',\"Data\",'Consolidated',\"Forecasts\",\"IndividualForecasts\",\"FinalPrediction\", \"TMTUI.csv\")\n",
    "TMTUI=pd.read_csv(relative_path,index_col=0)\n",
    "#Two Year Treasury Yield - Six Month Forecasts\n",
    "relative_path = os.path.join('..', '..',\"Data\",'Consolidated',\"Forecasts\",\"AlternativeForecasts\", \"TUY6.csv\")\n",
    "TUY6=pd.read_csv(relative_path,index_col=0)\n",
    "#ExpertForecasts Two Year Treasury Yield - Six Month Forecasts\n",
    "relative_path = os.path.join('..', '..',\"Data\",'Consolidated',\"Forecasts\",\"ExpertForecasts\", \"SMTU.csv\")\n",
    "SMTU=pd.read_csv(relative_path,index_col=0)\n",
    "#Individual Expert Forecasts Two Year Treasury Yield - Six Month Forecasts\n",
    "relative_path = os.path.join('..', '..',\"Data\",'Consolidated',\"Forecasts\",\"IndividualForecasts\",\"FinalPrediction\", \"SMTUI.csv\")\n",
    "SMTUI=pd.read_csv(relative_path,index_col=0)\n",
    "#Two Year Treasury Yield - Twelve Month Forecasts\n",
    "relative_path = os.path.join('..', '..',\"Data\",'Consolidated',\"Forecasts\",\"AlternativeForecasts\", \"TUY12.csv\")\n",
    "TUY12=pd.read_csv(relative_path,index_col=0)\n",
    "#ExpertForecasts Two Year Treasury Yield - Twelve Month Forecasts\n",
    "relative_path = os.path.join('..', '..',\"Data\",'Consolidated',\"Forecasts\",\"ExpertForecasts\", \"TWTU.csv\")\n",
    "TWTU=pd.read_csv(relative_path,index_col=0)\n",
    "#Individual Expert Forecasts Two Year Treasury Yield - Twelve Month Forecasts\n",
    "relative_path = os.path.join('..', '..',\"Data\",'Consolidated',\"Forecasts\",\"IndividualForecasts\",\"FinalPrediction\", \"TWTUI.csv\")\n",
    "TWTUI=pd.read_csv(relative_path,index_col=0)\n",
    "\n",
    "### Ten Year Treasury Yield\n",
    "\n",
    "#Ten Year Treasury Yield - Three Month Forecasts\n",
    "relative_path = os.path.join('..', '..',\"Data\",'Consolidated',\"Forecasts\",\"AlternativeForecasts\", \"TYY3.csv\")\n",
    "TYY3=pd.read_csv(relative_path,index_col=0)\n",
    "#ExpertForecasts Ten Year Treasury Yield - Three Month Forecasts\n",
    "relative_path = os.path.join('..', '..',\"Data\",'Consolidated',\"Forecasts\",\"ExpertForecasts\", \"TMTY.csv\")\n",
    "TMTY=pd.read_csv(relative_path,index_col=0)\n",
    "#Individual Expert Forecasts Ten Year Treasury Yield - Three Month Forecasts\n",
    "relative_path = os.path.join('..', '..',\"Data\",'Consolidated',\"Forecasts\",\"IndividualForecasts\",\"FinalPrediction\", \"TMTYI.csv\")\n",
    "TMTYI=pd.read_csv(relative_path,index_col=0)\n",
    "#Ten Year Treasury Yield - Six Month Forecasts\n",
    "relative_path = os.path.join('..', '..',\"Data\",'Consolidated',\"Forecasts\",\"AlternativeForecasts\", \"TYY6.csv\")\n",
    "TYY6=pd.read_csv(relative_path,index_col=0)\n",
    "#ExpertForecasts Ten Year Treasury Yield - Six Month Forecasts\n",
    "relative_path = os.path.join('..', '..',\"Data\",'Consolidated',\"Forecasts\",\"ExpertForecasts\", \"SMTY.csv\")\n",
    "SMTY=pd.read_csv(relative_path,index_col=0)\n",
    "#Individual Expert Forecasts Ten Year Treasury Yield - Six Month Forecasts\n",
    "relative_path = os.path.join('..', '..',\"Data\",'Consolidated',\"Forecasts\",\"IndividualForecasts\",\"FinalPrediction\", \"SMTYI.csv\")\n",
    "SMTYI=pd.read_csv(relative_path,index_col=0)\n",
    "#Ten Year Treasury Yield - Twelve Month Forecasts\n",
    "relative_path = os.path.join('..', '..',\"Data\",'Consolidated',\"Forecasts\",\"AlternativeForecasts\", \"TYY12.csv\")\n",
    "TYY12=pd.read_csv(relative_path,index_col=0)\n",
    "#ExpertForecasts Ten Year Treasury Yield - Twelve Month Forecasts\n",
    "relative_path = os.path.join('..', '..',\"Data\",'Consolidated',\"Forecasts\",\"ExpertForecasts\", \"TWTY.csv\")\n",
    "TWTY=pd.read_csv(relative_path,index_col=0)\n",
    "#Individual Expert Forecasts Ten Year Treasury Yield - Twelve Month Forecasts\n",
    "relative_path = os.path.join('..', '..',\"Data\",'Consolidated',\"Forecasts\",\"IndividualForecasts\",\"FinalPrediction\", \"TWTYI.csv\")\n",
    "TWTYI=pd.read_csv(relative_path,index_col=0)"
   ]
  },
  {
   "cell_type": "code",
   "execution_count": 3,
   "id": "56608366",
   "metadata": {},
   "outputs": [],
   "source": [
    "def forecast_merger(expert,individual,alternative,n_shift):\n",
    "    expert.index=expert[\"SnapDate\"]\n",
    "    expert_Median=expert[\"Median\"]\n",
    "    forecasts_merged=pd.concat([alternative,expert_Median,individual],join=\"inner\",axis=1)\n",
    "    forecasts_merged[[\"Median\",\"Individual\"]]=forecasts_merged[[\"Median\",\"Individual\"]].shift(n_shift)\n",
    "    forecasts_merged=forecasts_merged.iloc[n_shift:,:]\n",
    "    forecasts_merged.index=pd.to_datetime(forecasts_merged.index)\n",
    "    return (forecasts_merged)"
   ]
  },
  {
   "cell_type": "code",
   "execution_count": 4,
   "id": "8430d807",
   "metadata": {},
   "outputs": [],
   "source": [
    "forecasts2Y3M=forecast_merger(TMTU,TMTUI,TUY3,1)\n",
    "forecasts2Y6M=forecast_merger(SMTU,SMTUI,TUY6,2)\n",
    "forecasts2Y12M=forecast_merger(TWTU,TWTUI,TUY12,4)\n",
    "forecasts10Y3M=forecast_merger(TMTY,TMTYI,TYY3,1)\n",
    "forecasts10Y6M=forecast_merger(SMTY,SMTYI,TYY6,2)\n",
    "forecasts10Y12M=forecast_merger(TWTY,TWTYI,TYY12,4)"
   ]
  },
  {
   "cell_type": "code",
   "execution_count": 5,
   "id": "d87fb486",
   "metadata": {},
   "outputs": [],
   "source": [
    "def mae(y_true, predictions):\n",
    "    y_true, predictions = np.array(y_true), np.array(predictions)\n",
    "    return np.mean(np.abs(y_true - predictions)) "
   ]
  },
  {
   "cell_type": "code",
   "execution_count": 6,
   "id": "0b3d6900",
   "metadata": {},
   "outputs": [],
   "source": [
    "#function that assigns sign change of interest rate\n",
    "def signassignor(value):\n",
    "    if value>0:\n",
    "        return (1)\n",
    "    elif value<0:\n",
    "        return (-1)\n",
    "    else:\n",
    "        return(0)"
   ]
  },
  {
   "cell_type": "code",
   "execution_count": 7,
   "id": "8bc1f062",
   "metadata": {},
   "outputs": [],
   "source": [
    "def list_creator(column):\n",
    "    m=0\n",
    "    values=[]\n",
    "    for i in column:\n",
    "        if m==0:\n",
    "            prev_value=i\n",
    "            m=m+1\n",
    "        else:\n",
    "            diff=i-prev_value\n",
    "            values.append(signassignor(diff))\n",
    "            prev_value=i\n",
    "            m=m+1\n",
    "    return values"
   ]
  },
  {
   "cell_type": "code",
   "execution_count": 8,
   "id": "dbb20fea",
   "metadata": {},
   "outputs": [],
   "source": [
    "def DA_calculator(actual_column, forecast_column, q_ahead):\n",
    "    actual_array = np.array(actual_column)\n",
    "    forecast_array = np.array(forecast_column)\n",
    "    \n",
    "    if len(actual_array) != len(forecast_array):\n",
    "        raise ValueError(\"The actual and forecast columns must have the same length\")\n",
    "    \n",
    "    # Calculate the directional change in actual values\n",
    "    actual_direction = np.sign(actual_array[q_ahead:] - actual_array[:-q_ahead])\n",
    "    \n",
    "    # Calculate the directional change in forecast values\n",
    "    forecast_direction = np.sign(forecast_array[q_ahead:] - actual_array[:-q_ahead])\n",
    "    \n",
    "    # Check for direction matching\n",
    "    correct_directions = actual_direction == forecast_direction\n",
    "    \n",
    "    # Calculate Directional Accuracy\n",
    "    DA = np.mean(correct_directions)\n",
    "    \n",
    "    return DA"
   ]
  },
  {
   "cell_type": "code",
   "execution_count": 9,
   "id": "34baf216",
   "metadata": {},
   "outputs": [],
   "source": [
    "def theils_u (actuals,forecasts,q_ahead):\n",
    "    # Ensure input arrays are numpy arrays\n",
    "    forecasts = np.array(forecasts)\n",
    "    actuals = np.array(actuals)\n",
    "    # Calculate changes in forecasts and actuals\n",
    "    delta_forecasts = forecasts[q_ahead:] - actuals[:-q_ahead]\n",
    "    delta_actuals = actuals[q_ahead:] - actuals[:-q_ahead]\n",
    "    # Calculate numerator and denominator\n",
    "    numerator = np.sum((delta_forecasts - delta_actuals)**2)\n",
    "    denominator = np.sum(delta_actuals**2)\n",
    "    # Calculate Theil's U\n",
    "    U = np.sqrt(numerator / denominator)\n",
    "    return U"
   ]
  },
  {
   "cell_type": "code",
   "execution_count": 10,
   "id": "9ff5629b",
   "metadata": {},
   "outputs": [],
   "source": [
    "def error_measure_DF(forecasts,maturity,q_ahead):\n",
    "    MAE=[]\n",
    "    RMSE=[]\n",
    "    TheilsU=[]\n",
    "    DAlist=[]\n",
    "    for label, content in forecasts.iloc[:,1:].iteritems():\n",
    "        MAE.append(mae(forecasts[maturity],forecasts[label]))\n",
    "        RMSE.append(mean_squared_error(forecasts[maturity], forecasts[label], squared=False))\n",
    "        TheilsU.append(theils_u(forecasts[maturity],forecasts[label],q_ahead))\n",
    "        if label==\"No-Change(F)\":\n",
    "            DAlist.append(np.NaN)\n",
    "        else:\n",
    "            DAlist.append(DA_calculator(forecasts[maturity], forecasts[label],q_ahead))\n",
    "    allMetrics={\"MAE\":MAE,\"RMSE\": RMSE,\"Theil's U\":TheilsU,\"Directional Accuracy\":DAlist}\n",
    "    metric_df=pd.DataFrame(allMetrics,index=[\"No-Change\",\"No-Change in Growth\",\"Implied Yield\",\"Forward\",\"Consensus Forecast\",\"Individual Expert Forecast\"])\n",
    "    return(metric_df)"
   ]
  },
  {
   "cell_type": "code",
   "execution_count": 11,
   "id": "05374eba",
   "metadata": {},
   "outputs": [],
   "source": [
    "error2Y3M=error_measure_DF(forecasts2Y3M,\"2Y\",1)\n",
    "error2Y6M=error_measure_DF(forecasts2Y6M,\"2Y\",2)\n",
    "error2Y12M=error_measure_DF(forecasts2Y12M,\"2Y\",4)\n",
    "\n",
    "error10Y3M=error_measure_DF(forecasts10Y3M,\"10Y\",1)\n",
    "error10Y6M=error_measure_DF(forecasts10Y6M,\"10Y\",2)\n",
    "error10Y12M=error_measure_DF(forecasts10Y12M,\"10Y\",4)"
   ]
  },
  {
   "cell_type": "code",
   "execution_count": null,
   "id": "915a010a",
   "metadata": {},
   "outputs": [],
   "source": [
    "error2Y12M"
   ]
  },
  {
   "cell_type": "code",
   "execution_count": 13,
   "id": "5cda5741",
   "metadata": {},
   "outputs": [],
   "source": [
    "def filesaver(df,name):\n",
    "    relative_path = os.path.join('..', '..',\"Data\",'Results',\"Descriptive\",\"ErrorMetrics\",\"Measure\",name)\n",
    "    df.to_excel(relative_path)"
   ]
  },
  {
   "cell_type": "code",
   "execution_count": 14,
   "id": "360d4a45",
   "metadata": {},
   "outputs": [],
   "source": [
    "filesaver(error2Y3M,\"2Y3M.xlsx\")\n",
    "filesaver(error2Y6M,\"2Y6M.xlsx\")\n",
    "filesaver(error2Y12M,\"2Y12M.xlsx\")\n",
    "filesaver(error10Y3M,\"10Y3M.xlsx\")\n",
    "filesaver(error10Y6M,\"10Y6M.xlsx\")\n",
    "filesaver(error10Y12M,\"10Y12M.xlsx\")"
   ]
  },
  {
   "cell_type": "code",
   "execution_count": 15,
   "id": "136d3986",
   "metadata": {},
   "outputs": [],
   "source": [
    "def rank_df(error_measures):\n",
    "    return_df=pd.DataFrame(columns=error_measures.columns)\n",
    "    return_df[\"MAE\"]=error_measures[\"MAE\"].rank(method='average')\n",
    "    return_df[\"RMSE\"]=error_measures[\"RMSE\"].rank(method='average')\n",
    "    return_df[\"Theil's U\"]=error_measures[\"Theil's U\"].rank(method='average')\n",
    "    return_df[\"Directional Accuracy\"]=error_measures[\"Directional Accuracy\"].rank(method='average',ascending=False)\n",
    "    return return_df\n"
   ]
  },
  {
   "cell_type": "code",
   "execution_count": 16,
   "id": "feca0920",
   "metadata": {},
   "outputs": [],
   "source": [
    "rank_error2Y3M=rank_df(error2Y3M)\n",
    "rank_error2Y6M=rank_df(error2Y6M)\n",
    "rank_error2Y12M=rank_df(error2Y12M)\n",
    "\n",
    "rank_error10Y3M=rank_df(error10Y3M)\n",
    "rank_error10Y6M=rank_df(error10Y6M)\n",
    "rank_error10Y12M=rank_df(error10Y12M)"
   ]
  },
  {
   "cell_type": "code",
   "execution_count": null,
   "id": "39a6cd21",
   "metadata": {},
   "outputs": [],
   "source": [
    "error_rank_df=[rank_error2Y3M,rank_error2Y6M,rank_error2Y12M,rank_error10Y3M,rank_error10Y6M,rank_error10Y12M]\n",
    "error_rank_total={\"No-Change\":0,\"No-Change in Growth\":0,\"Implied Yield\":0,\"Forward\":0,\"Consensus Forecast\":0,\"Individual Expert Forecast\":0}\n",
    "for df in error_rank_df:\n",
    "    for index,row in df.iloc[:,:3].iterrows():\n",
    "        error_rank_total[index]+=row.sum()\n",
    "pd.DataFrame(error_rank_total,index=[\"Rank\"]).T.rank()"
   ]
  },
  {
   "cell_type": "code",
   "execution_count": null,
   "id": "971df8ec",
   "metadata": {},
   "outputs": [],
   "source": [
    "error_rank_total"
   ]
  },
  {
   "cell_type": "code",
   "execution_count": null,
   "id": "75b2e211",
   "metadata": {},
   "outputs": [],
   "source": [
    "error_rank_df=[rank_error2Y3M,rank_error2Y6M,rank_error2Y12M,rank_error10Y3M,rank_error10Y6M,rank_error10Y12M]\n",
    "error_rank_total={\"No-Change\":0,\"No-Change in Growth\":0,\"Implied Yield\":0,\"Forward\":0,\"Consensus Forecast\":0,\"Individual Expert Forecast\":0}\n",
    "for df in error_rank_df:\n",
    "    for index,row in df.iterrows():\n",
    "        error_rank_total[index]+=df.loc[index,\"Directional Accuracy\"]\n",
    "pd.DataFrame(error_rank_total,index=[\"Rank\"]).T.rank()"
   ]
  },
  {
   "cell_type": "code",
   "execution_count": 20,
   "id": "ed00d553",
   "metadata": {},
   "outputs": [],
   "source": [
    "def filesaver(df,name):\n",
    "    relative_path = os.path.join('..', '..',\"Data\",'Results',\"Descriptive\",\"ErrorMetrics\",\"Rank\",name)\n",
    "    df.to_excel(relative_path)"
   ]
  },
  {
   "cell_type": "code",
   "execution_count": 21,
   "id": "fc4c2436",
   "metadata": {},
   "outputs": [],
   "source": [
    "filesaver(rank_error2Y3M,\"2Y3M.xlsx\")\n",
    "filesaver(rank_error2Y6M,\"2Y6M.xlsx\")\n",
    "filesaver(rank_error2Y12M,\"2Y12M.xlsx\")\n",
    "filesaver(rank_error10Y3M,\"10Y3M.xlsx\")\n",
    "filesaver(rank_error10Y6M,\"10Y6M.xlsx\")\n",
    "filesaver(rank_error10Y12M,\"10Y12M.xlsx\")"
   ]
  }
 ],
 "metadata": {
  "kernelspec": {
   "display_name": "base",
   "language": "python",
   "name": "python3"
  },
  "language_info": {
   "codemirror_mode": {
    "name": "ipython",
    "version": 3
   },
   "file_extension": ".py",
   "mimetype": "text/x-python",
   "name": "python",
   "nbconvert_exporter": "python",
   "pygments_lexer": "ipython3",
   "version": "3.9.12"
  },
  "toc": {
   "base_numbering": 1,
   "nav_menu": {},
   "number_sections": true,
   "sideBar": true,
   "skip_h1_title": false,
   "title_cell": "Table of Contents",
   "title_sidebar": "Contents",
   "toc_cell": false,
   "toc_position": {},
   "toc_section_display": true,
   "toc_window_display": false
  }
 },
 "nbformat": 4,
 "nbformat_minor": 5
}
