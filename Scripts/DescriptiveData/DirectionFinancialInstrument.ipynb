{
 "cells": [
  {
   "cell_type": "markdown",
   "id": "98b0fd08",
   "metadata": {},
   "source": [
    "Here I want to check wheter the change of price which should occur based on the change of the treasury yield actually ocurred for the ETF and Futures. For instance, if the yield on the treasury note fell between Q1 and Q2, I would expect the price of the Futures contract and ETF to rise, which is an implicit assumption for the trading strategy to work. Here I want to check wheter this relationship actually holds."
   ]
  },
  {
   "cell_type": "code",
   "execution_count": 1,
   "id": "8210c938",
   "metadata": {},
   "outputs": [],
   "source": [
    "import pandas as pd\n",
    "import os\n",
    "import numpy as np"
   ]
  },
  {
   "cell_type": "code",
   "execution_count": 2,
   "id": "50599a9c",
   "metadata": {},
   "outputs": [],
   "source": [
    "#Two Year Treasury Yield\n",
    "relative_path = os.path.join('..', '..',\"Data\",'Consolidated',\"TreasuryYield\", \"TUQE.csv\")\n",
    "TUY=pd.read_csv(relative_path,index_col=0)\n",
    "#Ten Year Treasury Yield\n",
    "relative_path = os.path.join('..', '..',\"Data\",'Consolidated',\"TreasuryYield\", \"TYQE.csv\")\n",
    "TYY=pd.read_csv(relative_path,index_col=0)\n",
    "#Long-Term IEF ETF\n",
    "relative_path = os.path.join('..', '..',\"Data\",'Consolidated',\"ETF\", \"IEF.csv\")\n",
    "IEF=pd.read_csv(relative_path,index_col=0)\n",
    "#Short-Term SHY ETF\n",
    "relative_path = os.path.join('..', '..',\"Data\",'Consolidated',\"ETF\", \"SHY.csv\")\n",
    "SHY=pd.read_csv(relative_path,index_col=0)\n",
    "#TYc1\n",
    "relative_path = os.path.join('..', '..',\"Data\",'Consolidated',\"Futures\", \"TYc1ME.csv\")\n",
    "TYc1=pd.read_csv(relative_path,index_col=0)\n",
    "#TYc2\n",
    "relative_path = os.path.join('..', '..',\"Data\",'Consolidated',\"Futures\", \"TYc2ME.csv\")\n",
    "TYc2=pd.read_csv(relative_path,index_col=0)\n",
    "#TYc3\n",
    "relative_path = os.path.join('..', '..',\"Data\",'Consolidated',\"Futures\", \"TYc3ME.csv\")\n",
    "TYc3=pd.read_csv(relative_path,index_col=0)\n",
    "#TUc1\n",
    "relative_path = os.path.join('..', '..',\"Data\",'Consolidated',\"Futures\", \"TUc1ME.csv\")\n",
    "TUc1=pd.read_csv(relative_path,index_col=0)\n",
    "#TUc2\n",
    "relative_path = os.path.join('..', '..',\"Data\",'Consolidated',\"Futures\", \"TUc2ME.csv\")\n",
    "TUc2=pd.read_csv(relative_path,index_col=0)\n",
    "#TUc3\n",
    "relative_path = os.path.join('..', '..',\"Data\",'Consolidated',\"Futures\", \"TUc3ME.csv\")\n",
    "TUc3=pd.read_csv(relative_path,index_col=0)"
   ]
  },
  {
   "cell_type": "markdown",
   "id": "04611420",
   "metadata": {},
   "source": [
    "# ETFs"
   ]
  },
  {
   "cell_type": "code",
   "execution_count": 3,
   "id": "22f6c2d6",
   "metadata": {},
   "outputs": [],
   "source": [
    "#merge interest rate data and etf data\n",
    "TYETF=TYY.merge(IEF,how=\"inner\",left_index=True, right_index=True)\n",
    "#drop columns that are not needed\n",
    "TYETF.drop([\"Bid\",\"Ask\"], axis=1,inplace=True)\n",
    "#Create columns for sign change\n",
    "TYETF[\"Change10Y\"]=np.nan\n",
    "TYETF[\"ChangeETF\"]=np.nan\n",
    "\n",
    "#do the same thing for SHY ETF and two year yield\n",
    "\n",
    "#merge interest rate data and etf data\n",
    "TUETF=TUY.merge(SHY,how=\"inner\",left_index=True, right_index=True)\n",
    "#drop columns that are not needed\n",
    "TUETF.drop([\"Bid\",\"Ask\"], axis=1,inplace=True)\n",
    "#Create columns for sign change\n",
    "TUETF[\"Change2Y\"]=np.nan\n",
    "TUETF[\"ChangeETF\"]=np.nan"
   ]
  },
  {
   "cell_type": "code",
   "execution_count": 4,
   "id": "f8f7bf10",
   "metadata": {},
   "outputs": [],
   "source": [
    "#function that assigns sign change of interest rate\n",
    "def signassignor(value):\n",
    "    if value>0:\n",
    "        return (1)\n",
    "    elif value<0:\n",
    "        return (-1)\n",
    "    else:\n",
    "        return(0)"
   ]
  },
  {
   "cell_type": "code",
   "execution_count": 5,
   "id": "79eabcef",
   "metadata": {},
   "outputs": [],
   "source": [
    "#check wheter value changed as predicted\n",
    "i=0\n",
    "for index, row in TYETF.iterrows():\n",
    "    i=i+1\n",
    "    if i==1:\n",
    "        index_1=index\n",
    "    elif i>1:\n",
    "        #check how interest rate value changed\n",
    "        ichange=TYETF.loc[index,\"10Y\"]-TYETF.loc[index_1,\"10Y\"]\n",
    "        #assign value according to interest rate change\n",
    "        TYETF.loc[index,\"Change10Y\"]=signassignor(ichange)\n",
    "        #check how etf value changed\n",
    "        ETFchange=TYETF.loc[index,\"Close\"]-TYETF.loc[index_1,\"Close\"]\n",
    "        #assigne value according to change\n",
    "        TYETF.loc[index,\"ChangeETF\"]=signassignor(ETFchange)\n",
    "        #update previous index value\n",
    "        index_1=index\n",
    "#If both changes equal 0, than price change was correct\n",
    "TYETF[\"ChangeBoth\"]=TYETF[\"Change10Y\"]+TYETF[\"ChangeETF\"]\n",
    "#Count how often each value appeared\n",
    "ETF10Y=pd.value_counts(TYETF[\"ChangeBoth\"])"
   ]
  },
  {
   "cell_type": "code",
   "execution_count": 6,
   "id": "c53c8a05",
   "metadata": {},
   "outputs": [],
   "source": [
    "#check wheter value changed as predicted\n",
    "i=0\n",
    "for index, row in TUETF.iterrows():\n",
    "    i=i+1\n",
    "    if i==1:\n",
    "        index_1=index\n",
    "    elif i>1:\n",
    "        #check how interest rate value changed\n",
    "        ichange=TUETF.loc[index,\"2Y\"]-TUETF.loc[index_1,\"2Y\"]\n",
    "        #assign value according to interest rate change\n",
    "        TUETF.loc[index,\"Change2Y\"]=signassignor(ichange)\n",
    "        #check how etf value changed\n",
    "        ETFchange=TUETF.loc[index,\"Close\"]-TUETF.loc[index_1,\"Close\"]\n",
    "        #assigne value according to change\n",
    "        TUETF.loc[index,\"ChangeETF\"]=signassignor(ETFchange)\n",
    "        #update previous index value\n",
    "        index_1=index\n",
    "#If both changes equal 0, than price change was correct\n",
    "TUETF[\"ChangeBoth\"]=TUETF[\"Change2Y\"]+TUETF[\"ChangeETF\"]\n",
    "#Count how often each value appeared\n",
    "ETF2Y=pd.value_counts(TUETF[\"ChangeBoth\"])"
   ]
  },
  {
   "cell_type": "code",
   "execution_count": null,
   "id": "ae304d0e",
   "metadata": {},
   "outputs": [],
   "source": [
    "ETF2Y"
   ]
  },
  {
   "cell_type": "code",
   "execution_count": null,
   "id": "218e0c47",
   "metadata": {},
   "outputs": [],
   "source": [
    "ETF10Y"
   ]
  },
  {
   "cell_type": "markdown",
   "id": "b3328e7b",
   "metadata": {},
   "source": [
    "# Futures Contracts"
   ]
  },
  {
   "cell_type": "code",
   "execution_count": 9,
   "id": "71ac733f",
   "metadata": {},
   "outputs": [],
   "source": [
    "TUY.index=pd.to_datetime(TUY.index)\n",
    "TYY.index=pd.to_datetime(TYY.index)"
   ]
  },
  {
   "cell_type": "code",
   "execution_count": 10,
   "id": "baed5c75",
   "metadata": {},
   "outputs": [],
   "source": [
    "def value_counter(yield_df,future_df):\n",
    "    future_df.index=pd.to_datetime(future_df.index)\n",
    "    future_df=future_df[\"Close\"].resample(\"Q\").last()\n",
    "    future_df=future_df.iloc[1:]\n",
    "    yieldchange=np.sign(yield_df.diff())\n",
    "    futurechange=np.sign(future_df.diff())\n",
    "    change=futurechange+yieldchange\n",
    "    change_df=change.dropna().value_counts()\n",
    "    return(change_df)\n"
   ]
  },
  {
   "cell_type": "code",
   "execution_count": 11,
   "id": "40a10e2c",
   "metadata": {},
   "outputs": [],
   "source": [
    "def accuracy(value_df):\n",
    "    return(value_df[0]/sum(value_df))"
   ]
  },
  {
   "cell_type": "code",
   "execution_count": 12,
   "id": "b342f628",
   "metadata": {},
   "outputs": [],
   "source": [
    "value_dic={\n",
    "    \"ETF: SHY\":accuracy(ETF2Y),\n",
    "    \"ETF: IEF\":accuracy(ETF10Y),\n",
    "    \"Future: TUc1\":accuracy(value_counter(TUY[\"2Y\"],TUc1)),\n",
    "    \"Future: TUc2\":accuracy(value_counter(TUY[\"2Y\"],TUc2)),\n",
    "    \"Future: TUc3\":accuracy(value_counter(TUY[\"2Y\"],TUc3)),\n",
    "    \"Future: TYc1\":accuracy(value_counter(TYY[\"10Y\"],TYc1)),\n",
    "    \"Future: TYc2\":accuracy(value_counter(TYY[\"10Y\"],TYc2)),\n",
    "    \"Future: TYc3\":accuracy(value_counter(TYY[\"10Y\"],TYc3))\n",
    "}\n",
    "\n",
    "ERAR=pd.DataFrame(value_dic,index=[\"Expected Relationship Accuracy Ratio\"]).T"
   ]
  },
  {
   "cell_type": "code",
   "execution_count": 13,
   "id": "4cb092a2",
   "metadata": {},
   "outputs": [],
   "source": [
    "relative_path = os.path.join('..', '..',\"Data\",\"Results\",\"Descriptive\",\"ERAR.xlsx\")\n",
    "ERAR.to_excel(relative_path)"
   ]
  }
 ],
 "metadata": {
  "kernelspec": {
   "display_name": "base",
   "language": "python",
   "name": "python3"
  },
  "language_info": {
   "codemirror_mode": {
    "name": "ipython",
    "version": 3
   },
   "file_extension": ".py",
   "mimetype": "text/x-python",
   "name": "python",
   "nbconvert_exporter": "python",
   "pygments_lexer": "ipython3",
   "version": "3.9.12"
  },
  "toc": {
   "base_numbering": 1,
   "nav_menu": {},
   "number_sections": true,
   "sideBar": true,
   "skip_h1_title": false,
   "title_cell": "Table of Contents",
   "title_sidebar": "Contents",
   "toc_cell": false,
   "toc_position": {},
   "toc_section_display": true,
   "toc_window_display": false
  }
 },
 "nbformat": 4,
 "nbformat_minor": 5
}
